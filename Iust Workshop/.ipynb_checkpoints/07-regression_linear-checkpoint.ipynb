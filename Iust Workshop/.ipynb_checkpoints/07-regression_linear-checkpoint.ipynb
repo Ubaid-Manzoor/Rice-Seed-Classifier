{
 "cells": [
  {
   "cell_type": "markdown",
   "metadata": {},
   "source": [
    "## Python Notebook\n",
    "\n",
    "These are interatcive cells which can be executed independently. This gives us greater freedom and flexibility to work. \n",
    "In addition to writing code we can also write some nmarkup code like this notebook.\n",
    "\n",
    "\n",
    "The jupyter notebook can be installed via a simple pip command\n",
    "```\n",
    "pip install jupyter \n",
    "```\n",
    "\n",
    "For running the notebook simply issue the command\n",
    "```\n",
    "jupyter notebook\n",
    "```\n",
    "from the terminal.\n",
    "<div class=\"alert alert-block alert-warning\">\n",
    "Make sure that you check which directory you are working from and invoking the jupyter notebook.\n",
    "</div>\n",
    "\n",
    "The above command will open the jupyter home in your web browser.\n",
    "\n",
    "\n",
    "## Shortcuts\n",
    "\n",
    "+ To run a cell use `ctrl+ enter`\n",
    "+ To run the current cell and move create a new cell use `shift+enter`\n",
    "+ To move between cells press `escape` and use arrow keys.\n",
    "\n",
    "\n",
    "## More Information\n",
    "\n",
    "To learn more about the notebook please visit the following link.\n",
    "\n",
    "+ [Very useful Video](https://www.youtube.com/watch?v=2eCHD6f_phE&list=PLIivdWyY5sqJxnwJhe3etaK7utrBiPBQ2)\n",
    "+ [Youtube Video](https://www.youtube.com/watch?v=HW29067qVWk)"
   ]
  },
  {
   "cell_type": "markdown",
   "metadata": {},
   "source": [
    "## Classifiers using sklearn\n",
    "\n",
    "__sklearn__ is a popular python based Machine learning library. It has a common format where we create a model object like `SVM`, `Decision Tree`, `GMM` etc and then fit the data over the model using a `fit()` function. For predictions as well we have uniform methods like `predict()` and `predict_proba()` across the models.\n",
    "Many deep learning libraries are inspired from the design of __sklearn__"
   ]
  },
  {
   "cell_type": "markdown",
   "metadata": {},
   "source": [
    "## Common Tasks\n",
    "\n",
    "A particular ML task encompasses a few steps:\n",
    "1. Import The Dependencies\n",
    "2. Load the data\n",
    "3. Split it into train, test and validation sets\n",
    "4. An optional plotting to visualize the data.\n",
    "5. Create the ML model object like `SVM`, `DecisionTree` etc by calling the constructor\n",
    "6. Fitting the data by calling the `fit()` function on the training data\n",
    "7. Evaluate the model on the validation data.\n",
    "8. Repeat `6` and `7` till a better result is achieved.\n",
    "9. Evaluate on the test data and report the results.\n",
    "\n",
    "Below we will do all these tasks on different classifiers."
   ]
  },
  {
   "cell_type": "markdown",
   "metadata": {},
   "source": [
    "## Step 1: Import the dependencies\n",
    "The packages to be used will be imported here."
   ]
  },
  {
   "cell_type": "code",
   "execution_count": 1,
   "metadata": {
    "ExecuteTime": {
     "end_time": "2019-06-10T10:46:43.927652Z",
     "start_time": "2019-06-10T10:46:41.960534Z"
    }
   },
   "outputs": [],
   "source": [
    "import matplotlib.pyplot as plt\n",
    "import numpy as np\n",
    "from sklearn import datasets, linear_model\n",
    "from sklearn.metrics import mean_squared_error, r2_score\n",
    "from sklearn.model_selection import train_test_split"
   ]
  },
  {
   "cell_type": "markdown",
   "metadata": {},
   "source": [
    "## Step 2: Load the data\n",
    "\n",
    "We load `diabetes` dataset already in sklearn.datasets , We simply hace to call `load_diabetes()` and it will return the a Dict which contains `data` and `target` as key , So to access them we simply use `.data` / `.target`  "
   ]
  },
  {
   "cell_type": "code",
   "execution_count": 3,
   "metadata": {
    "ExecuteTime": {
     "end_time": "2019-06-10T10:49:35.097774Z",
     "start_time": "2019-06-10T10:49:35.062435Z"
    }
   },
   "outputs": [],
   "source": [
    "diabetes = datasets.load_diabetes()"
   ]
  },
  {
   "cell_type": "markdown",
   "metadata": {},
   "source": [
    "#### Use only one feature"
   ]
  },
  {
   "cell_type": "markdown",
   "metadata": {
    "ExecuteTime": {
     "end_time": "2019-06-10T10:49:35.322669Z",
     "start_time": "2019-06-10T10:49:35.305318Z"
    }
   },
   "source": [
    "`diabetes.data` contains total of `10 features` but for simplicity we will only use `one` of them "
   ]
  },
  {
   "cell_type": "code",
   "execution_count": 8,
   "metadata": {
    "ExecuteTime": {
     "end_time": "2019-06-10T10:52:37.309043Z",
     "start_time": "2019-06-10T10:52:37.299942Z"
    }
   },
   "outputs": [],
   "source": [
    "diabetes_X = diabetes.data[:, np.newaxis, 2]"
   ]
  },
  {
   "cell_type": "markdown",
   "metadata": {},
   "source": [
    "## Step 3: Split the data\n",
    "\n",
    "We split the data into two splits: `train` - (100-d)% and `test`  d%. Recall the import above \n",
    "```\n",
    "from sklearn.model_selection import train_test_split\n",
    "```\n",
    "We will use this to split the dataset. Please google for its prototype and options.\n",
    "\n",
    "`d` is obtained while running the Program\n"
   ]
  },
  {
   "cell_type": "code",
   "execution_count": 11,
   "metadata": {
    "ExecuteTime": {
     "end_time": "2019-06-10T10:57:51.108981Z",
     "start_time": "2019-06-10T10:57:48.475454Z"
    }
   },
   "outputs": [
    {
     "name": "stdout",
     "output_type": "stream",
     "text": [
      "Enter the % of samples to be used for testing. \n",
      "20\n"
     ]
    }
   ],
   "source": [
    "d=input('Enter the % of samples to be used for testing. \\n')\n",
    "d=float(d)/100\n",
    "diabetes_X_train, diabetes_X_test, diabetes_y_train, diabetes_y_test = train_test_split(diabetes_X,\n",
    "                                                                                        diabetes.target,\n",
    "                                                                                        test_size = d,\n",
    "                                                                                        random_state = 0)"
   ]
  },
  {
   "cell_type": "markdown",
   "metadata": {},
   "source": [
    "## Step 4: Visualize the data\n",
    "\n",
    "We are going to use `matplotlib.pyplot` which provides a MATLAB like 2d plotting interface."
   ]
  },
  {
   "cell_type": "code",
   "execution_count": 12,
   "metadata": {
    "ExecuteTime": {
     "end_time": "2019-06-10T10:57:54.260048Z",
     "start_time": "2019-06-10T10:57:54.016470Z"
    }
   },
   "outputs": [
    {
     "data": {
      "image/png": "[encoded data removed]",
      "text/plain": [
       "<Figure size 432x288 with 1 Axes>"
      ]
     },
     "metadata": {
      "needs_background": "light"
     },
     "output_type": "display_data"
    }
   ],
   "source": [
    "plt.scatter(diabetes_X_train, diabetes_y_train,  color='black',label='Original')\n",
    "\n",
    "plt.xlabel('X_test')\n",
    "plt.ylabel('Y')\n",
    "plt.legend(loc='best')\n",
    "\n",
    "plt.title('Linear Regression')\n",
    "plt.show()"
   ]
  },
  {
   "cell_type": "markdown",
   "metadata": {},
   "source": [
    "## Step 5: Create the ML model object LinearRegression\n",
    "\n",
    "In this case we will create a LinearRegression object, however, this process can be repeated for any classifier."
   ]
  },
  {
   "cell_type": "code",
   "execution_count": 13,
   "metadata": {
    "ExecuteTime": {
     "end_time": "2019-06-10T10:59:22.697611Z",
     "start_time": "2019-06-10T10:59:22.690232Z"
    }
   },
   "outputs": [],
   "source": [
    "regr = linear_model.LinearRegression()"
   ]
  },
  {
   "cell_type": "markdown",
   "metadata": {},
   "source": [
    "## Step 6: Fitting the data by calling the `fit()` function on the training data"
   ]
  },
  {
   "cell_type": "code",
   "execution_count": 14,
   "metadata": {
    "ExecuteTime": {
     "end_time": "2019-06-10T10:59:23.599682Z",
     "start_time": "2019-06-10T10:59:23.472301Z"
    }
   },
   "outputs": [
    {
     "data": {
      "text/plain": [
       "LinearRegression(copy_X=True, fit_intercept=True, n_jobs=None,\n",
       "         normalize=False)"
      ]
     },
     "execution_count": 14,
     "metadata": {},
     "output_type": "execute_result"
    }
   ],
   "source": [
    "regr.fit(diabetes_X_train, diabetes_y_train)"
   ]
  },
  {
   "cell_type": "markdown",
   "metadata": {},
   "source": [
    "## Step 7: Evaluate the model on the Test data.\n",
    "\n",
    "We use `Predict()` Method to evaluate How good Over Model is on Test data \n",
    "If results are not good you can go to setp 5 and 6 and make some changes in parameters etc."
   ]
  },
  {
   "cell_type": "code",
   "execution_count": 15,
   "metadata": {
    "ExecuteTime": {
     "end_time": "2019-06-10T10:59:24.184788Z",
     "start_time": "2019-06-10T10:59:24.182016Z"
    }
   },
   "outputs": [],
   "source": [
    "diabetes_y_pred = regr.predict(diabetes_X_test)"
   ]
  },
  {
   "cell_type": "markdown",
   "metadata": {
    "ExecuteTime": {
     "end_time": "2019-06-10T11:18:14.502303Z",
     "start_time": "2019-06-10T11:18:14.497140Z"
    }
   },
   "source": [
    "## Step 8: Is If results are not good you can go to setp 5 and 6 and make some changes in parameters"
   ]
  },
  {
   "cell_type": "markdown",
   "metadata": {},
   "source": [
    "## Step 9: Evaluate on the test data and report the results"
   ]
  },
  {
   "cell_type": "markdown",
   "metadata": {},
   "source": [
    "### Metrics\n",
    "\n",
    "#### 1. Mean Squared Error<br>\n",
    "The mean_squared_error function computes mean square error, a risk metric corresponding to the expected value of the squared (quadratic) error or loss \n",
    "`less the error better the model is`\n",
    "#### 2. r2_score<br>\n",
    "The r2_score function computes the coefficient of determination, usually denoted as r².<br>\n",
    "best possible score is `1` and it can be negative"
   ]
  },
  {
   "cell_type": "code",
   "execution_count": 10,
   "metadata": {
    "ExecuteTime": {
     "end_time": "2019-06-10T06:24:35.816387Z",
     "start_time": "2019-06-10T06:24:35.799759Z"
    }
   },
   "outputs": [
    {
     "name": "stdout",
     "output_type": "stream",
     "text": [
      "Coefficients: \n",
      " [981.65543614]\n",
      "Mean squared error: 4150.68 \n",
      "\n",
      "Variance score: 0.19\n"
     ]
    }
   ],
   "source": [
    "# The coefficients\n",
    "print(\"Coefficients: \\n\", regr.coef_)\n",
    "# The mean squared error\n",
    "print(\"Mean squared error: %.2f \\n\" % mean_squared_error(diabetes_y_test, diabetes_y_pred) )\n",
    "# Explained variance score: 1 is perfect prediction\n",
    "print('Variance score: %.2f' % r2_score(diabetes_y_test, diabetes_y_pred))"
   ]
  },
  {
   "cell_type": "markdown",
   "metadata": {},
   "source": [
    "### Visualising How Model fits Test set "
   ]
  },
  {
   "cell_type": "code",
   "execution_count": 11,
   "metadata": {
    "ExecuteTime": {
     "end_time": "2019-06-10T06:24:48.008247Z",
     "start_time": "2019-06-10T06:24:47.761985Z"
    }
   },
   "outputs": [
    {
     "data": {
      "image/png": "[encoded data removed]",
      "text/plain": [
       "<Figure size 432x288 with 1 Axes>"
      ]
     },
     "metadata": {
      "needs_background": "light"
     },
     "output_type": "display_data"
    }
   ],
   "source": [
    "plt.scatter(diabetes_X_test, diabetes_y_test,  color='black',label='Original')\n",
    "plt.scatter(diabetes_X_test, diabetes_y_pred, color='blue', linewidth=3,label='Predicted')\n",
    "\n",
    "plt.xlabel('X_test')\n",
    "plt.ylabel('Y')\n",
    "plt.legend(loc='best')\n",
    "\n",
    "plt.title('Linear Regression')\n",
    "plt.show()"
   ]
  },
  {
   "cell_type": "code",
   "execution_count": null,
   "metadata": {},
   "outputs": [],
   "source": []
  }
 ],
 "metadata": {
  "kernelspec": {
   "display_name": "Python 3",
   "language": "python",
   "name": "python3"
  },
  "language_info": {
   "codemirror_mode": {
    "name": "ipython",
    "version": 3
   },
   "file_extension": ".py",
   "mimetype": "text/x-python",
   "name": "python",
   "nbconvert_exporter": "python",
   "pygments_lexer": "ipython3",
   "version": "3.7.3"
  },
  "varInspector": {
   "cols": {
    "lenName": 16,
    "lenType": 16,
    "lenVar": 40
   },
   "kernels_config": {
    "python": {
     "delete_cmd_postfix": "",
     "delete_cmd_prefix": "del ",
     "library": "var_list.py",
     "varRefreshCmd": "print(var_dic_list())"
    },
    "r": {
     "delete_cmd_postfix": ") ",
     "delete_cmd_prefix": "rm(",
     "library": "var_list.r",
     "varRefreshCmd": "cat(var_dic_list()) "
    }
   },
   "types_to_exclude": [
    "module",
    "function",
    "builtin_function_or_method",
    "instance",
    "_Feature"
   ],
   "window_display": false
  }
 },
 "nbformat": 4,
 "nbformat_minor": 2
}
