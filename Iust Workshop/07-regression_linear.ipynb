{
 "cells": [
  {
   "cell_type": "markdown",
   "metadata": {},
   "source": [
    "<h1 style=\"text-align:center\"><b>This NoteBook Explains How Linear Regression Help to Classify diabetes vs non-diabetics</b></h1>"
   ]
  },
  {
   "cell_type": "markdown",
   "metadata": {},
   "source": [
    "## Importing the Necessary Libraries Needed Throught out"
   ]
  },
  {
   "cell_type": "code",
   "execution_count": 2,
   "metadata": {
    "ExecuteTime": {
     "end_time": "2019-06-10T06:23:25.711707Z",
     "start_time": "2019-06-10T06:23:25.438802Z"
    }
   },
   "outputs": [],
   "source": [
    "import matplotlib.pyplot as plt\n",
    "import numpy as np\n",
    "from sklearn import datasets, linear_model\n",
    "from sklearn.metrics import mean_squared_error, r2_score\n",
    "from sklearn.model_selection import train_test_split"
   ]
  },
  {
   "cell_type": "markdown",
   "metadata": {},
   "source": [
    "### Load the diabetes dataset"
   ]
  },
  {
   "cell_type": "code",
   "execution_count": 3,
   "metadata": {
    "ExecuteTime": {
     "end_time": "2019-06-10T06:23:27.488901Z",
     "start_time": "2019-06-10T06:23:27.451604Z"
    }
   },
   "outputs": [],
   "source": [
    "diabetes = datasets.load_diabetes()"
   ]
  },
  {
   "cell_type": "markdown",
   "metadata": {},
   "source": [
    "### Use only one feature"
   ]
  },
  {
   "cell_type": "code",
   "execution_count": 4,
   "metadata": {
    "ExecuteTime": {
     "end_time": "2019-06-10T06:23:29.742317Z",
     "start_time": "2019-06-10T06:23:29.738277Z"
    }
   },
   "outputs": [],
   "source": [
    "diabetes_X = diabetes.data[:, np.newaxis, 2]"
   ]
  },
  {
   "cell_type": "markdown",
   "metadata": {},
   "source": [
    "### Split the data into training/testing sets"
   ]
  },
  {
   "cell_type": "code",
   "execution_count": 5,
   "metadata": {
    "ExecuteTime": {
     "end_time": "2019-06-10T06:23:42.326606Z",
     "start_time": "2019-06-10T06:23:31.755224Z"
    }
   },
   "outputs": [
    {
     "name": "stdout",
     "output_type": "stream",
     "text": [
      "Enter the % of samples to be used for testing. \n",
      "20\n"
     ]
    }
   ],
   "source": [
    "d=input('Enter the % of samples to be used for testing. \\n')\n",
    "d=float(d)/100\n",
    "diabetes_X_train, diabetes_X_test, diabetes_y_train, diabetes_y_test = train_test_split(diabetes_X,\n",
    "                                                                                        diabetes.target,\n",
    "                                                                                        test_size = d,\n",
    "                                                                                        random_state = 0)"
   ]
  },
  {
   "cell_type": "markdown",
   "metadata": {},
   "source": [
    "### Create linear regression object"
   ]
  },
  {
   "cell_type": "code",
   "execution_count": 6,
   "metadata": {
    "ExecuteTime": {
     "end_time": "2019-06-10T06:23:45.551128Z",
     "start_time": "2019-06-10T06:23:45.544443Z"
    }
   },
   "outputs": [],
   "source": [
    "regr = linear_model.LinearRegression()"
   ]
  },
  {
   "cell_type": "markdown",
   "metadata": {},
   "source": [
    "### Train the model using the training sets"
   ]
  },
  {
   "cell_type": "code",
   "execution_count": 7,
   "metadata": {
    "ExecuteTime": {
     "end_time": "2019-06-10T06:23:46.937510Z",
     "start_time": "2019-06-10T06:23:46.661223Z"
    }
   },
   "outputs": [
    {
     "data": {
      "text/plain": [
       "LinearRegression(copy_X=True, fit_intercept=True, n_jobs=None,\n",
       "         normalize=False)"
      ]
     },
     "execution_count": 7,
     "metadata": {},
     "output_type": "execute_result"
    }
   ],
   "source": [
    "regr.fit(diabetes_X_train, diabetes_y_train)"
   ]
  },
  {
   "cell_type": "markdown",
   "metadata": {},
   "source": [
    "### Make predictions using the testing set"
   ]
  },
  {
   "cell_type": "code",
   "execution_count": 8,
   "metadata": {
    "ExecuteTime": {
     "end_time": "2019-06-10T06:23:49.970824Z",
     "start_time": "2019-06-10T06:23:49.961725Z"
    }
   },
   "outputs": [],
   "source": [
    "diabetes_y_pred = regr.predict(diabetes_X_test)"
   ]
  },
  {
   "cell_type": "code",
   "execution_count": 10,
   "metadata": {
    "ExecuteTime": {
     "end_time": "2019-06-10T06:24:35.816387Z",
     "start_time": "2019-06-10T06:24:35.799759Z"
    }
   },
   "outputs": [
    {
     "name": "stdout",
     "output_type": "stream",
     "text": [
      "Coefficients: \n",
      " [981.65543614]\n",
      "Mean squared error: 4150.68 \n",
      "\n",
      "Variance score: 0.19\n"
     ]
    }
   ],
   "source": [
    "# The coefficients\n",
    "print(\"Coefficients: \\n\", regr.coef_)\n",
    "# The mean squared error\n",
    "print(\"Mean squared error: %.2f \\n\" % mean_squared_error(diabetes_y_test, diabetes_y_pred) )\n",
    "# Explained variance score: 1 is perfect prediction\n",
    "print('Variance score: %.2f' % r2_score(diabetes_y_test, diabetes_y_pred))"
   ]
  },
  {
   "cell_type": "markdown",
   "metadata": {},
   "source": [
    "## Plot outputs"
   ]
  },
  {
   "cell_type": "code",
   "execution_count": 11,
   "metadata": {
    "ExecuteTime": {
     "end_time": "2019-06-10T06:24:48.008247Z",
     "start_time": "2019-06-10T06:24:47.761985Z"
    }
   },
   "outputs": [
    {
     "data": {
      "image/png": "[encoded data removed]",
      "text/plain": [
       "<Figure size 432x288 with 1 Axes>"
      ]
     },
     "metadata": {
      "needs_background": "light"
     },
     "output_type": "display_data"
    }
   ],
   "source": [
    "plt.scatter(diabetes_X_test, diabetes_y_test,  color='black',label='Original')\n",
    "plt.scatter(diabetes_X_test, diabetes_y_pred, color='blue', linewidth=3,label='Predicted')\n",
    "\n",
    "plt.xlabel('X_test')\n",
    "plt.ylabel('Y')\n",
    "plt.legend(loc='best')\n",
    "\n",
    "plt.title('Linear Regression')\n",
    "plt.show()"
   ]
  },
  {
   "cell_type": "code",
   "execution_count": 13,
   "metadata": {
    "ExecuteTime": {
     "end_time": "2019-06-10T06:25:15.680903Z",
     "start_time": "2019-06-10T06:25:15.659450Z"
    }
   },
   "outputs": [
    {
     "name": "stdout",
     "output_type": "stream",
     "text": [
      "X_test [[ 0.10480869]\n",
      " [ 0.06061839]\n",
      " [ 0.00888341]\n",
      " [-0.02345095]\n",
      " [ 0.04552903]\n",
      " [ 0.097264  ]\n",
      " [-0.02884001]\n",
      " [ 0.02289497]\n",
      " [ 0.05415152]\n",
      " [ 0.04660684]\n",
      " [-0.05794093]\n",
      " [ 0.04660684]\n",
      " [-0.0374625 ]\n",
      " [-0.046085  ]\n",
      " [ 0.08864151]\n",
      " [-0.02237314]\n",
      " [-0.05901875]\n",
      " [-0.05147406]\n",
      " [-0.08380842]\n",
      " [ 0.04013997]\n",
      " [ 0.02828403]\n",
      " [ 0.01103904]\n",
      " [-0.02452876]\n",
      " [ 0.05846277]\n",
      " [ 0.05522933]\n",
      " [ 0.01750591]\n",
      " [-0.04177375]\n",
      " [-0.04500719]\n",
      " [ 0.00457217]\n",
      " [ 0.02612841]\n",
      " [-0.00297252]\n",
      " [-0.05255187]\n",
      " [-0.0105172 ]\n",
      " [-0.01159501]\n",
      " [-0.00620595]\n",
      " [ 0.02073935]\n",
      " [-0.01590626]\n",
      " [-0.00943939]\n",
      " [ 0.00133873]\n",
      " [ 0.03367309]\n",
      " [-0.06548562]\n",
      " [-0.0105172 ]\n",
      " [-0.00728377]\n",
      " [-0.00405033]\n",
      " [ 0.03043966]\n",
      " [-0.06117437]\n",
      " [-0.0191397 ]\n",
      " [ 0.0250506 ]\n",
      " [-0.03315126]\n",
      " [ 0.03367309]\n",
      " [-0.02237314]\n",
      " [-0.04716281]\n",
      " [ 0.01858372]\n",
      " [-0.00836158]\n",
      " [ 0.0433734 ]\n",
      " [-0.01806189]\n",
      " [ 0.03043966]\n",
      " [-0.00405033]\n",
      " [-0.00512814]\n",
      " [ 0.01211685]\n",
      " [ 0.04121778]\n",
      " [ 0.02397278]\n",
      " [ 0.04984027]\n",
      " [-0.02129532]\n",
      " [ 0.06061839]\n",
      " [ 0.02828403]\n",
      " [-0.06225218]\n",
      " [ 0.04768465]\n",
      " [ 0.04229559]\n",
      " [-0.0730303 ]\n",
      " [-0.02560657]\n",
      " [-0.02560657]\n",
      " [-0.02991782]\n",
      " [ 0.03690653]\n",
      " [ 0.00564998]\n",
      " [-0.02452876]\n",
      " [-0.01590626]\n",
      " [ 0.06061839]\n",
      " [ 0.08109682]\n",
      " [ 0.02612841]\n",
      " [-0.00297252]\n",
      " [ 0.00996123]\n",
      " [-0.02021751]\n",
      " [ 0.01427248]\n",
      " [-0.08919748]\n",
      " [-0.07087468]\n",
      " [ 0.0433734 ]\n",
      " [ 0.01427248]\n",
      " [-0.00943939]]\n",
      "Y_test [321. 215. 127.  64. 175. 275. 179. 232. 142.  99. 252. 174. 129.  74.\n",
      " 264.  49.  86.  75. 101. 155. 170. 276. 110. 136.  68. 128. 103.  93.\n",
      " 191. 196. 217. 181. 168. 200. 219. 281. 151. 257.  49. 198.  96. 179.\n",
      "  95. 198. 244.  89. 214. 182.  84. 270. 156. 138. 113. 131. 195. 171.\n",
      " 122.  61. 230. 235.  52. 121. 144. 107. 132. 302.  53. 317. 137.  57.\n",
      "  98. 170.  88.  90.  67. 163. 104. 186. 180. 283. 141. 150.  47. 297.\n",
      " 104.  49. 103. 142.  59.]\n",
      "Y_test [255.17426905 211.79462571 161.0087018  129.26749936 196.98206457\n",
      " 247.76798848 123.97729895 174.76322286 205.44638522 198.04010465\n",
      "  95.41021675 198.04010465 115.5129783  107.04865765 239.30366783\n",
      " 130.32553944  94.35217667 101.75845724  70.01725479 191.69186416\n",
      " 180.05342327 163.12478196 128.20945928 209.67854555 206.5044253\n",
      " 169.47302245 111.28081797 108.10669773 156.77654147 177.9373431\n",
      " 149.3702609  100.70041716 141.96398033 140.90594025 146.19614066\n",
      " 172.6471427  136.67377993 143.02202042 153.60242123 185.34362367\n",
      "  88.00393618 141.96398033 145.13810058 148.31222082 182.16950343\n",
      "  92.23609651 133.49965968 176.87930302 119.74513862 185.34362367\n",
      " 130.32553944 105.99061756 170.53106253 144.0800605  194.86598441\n",
      " 134.55769976 182.16950343 148.31222082 147.25418074 164.18282204\n",
      " 192.74990424 175.82126294 201.2142249  131.38357952 211.79462571\n",
      " 180.05342327  91.17805642 199.09814473 193.80794433  80.59765561\n",
      " 127.15141919 127.15141919 122.91925887 188.51774392 157.83458156\n",
      " 128.20945928 136.67377993 211.79462571 231.89738726 177.9373431\n",
      " 149.3702609  162.06674188 132.4416196  166.29890221  64.72705439\n",
      "  82.71373577 194.86598441 166.29890221 143.02202042]\n"
     ]
    }
   ],
   "source": [
    "print(\"X_test\",diabetes_X_test)\n",
    "print(\"Y_test\",diabetes_y_test)\n",
    "print(\"Y_test\",diabetes_y_pred)"
   ]
  },
  {
   "cell_type": "code",
   "execution_count": null,
   "metadata": {},
   "outputs": [],
   "source": []
  },
  {
   "cell_type": "code",
   "execution_count": null,
   "metadata": {},
   "outputs": [],
   "source": []
  },
  {
   "cell_type": "code",
   "execution_count": null,
   "metadata": {},
   "outputs": [],
   "source": []
  }
 ],
 "metadata": {
  "kernelspec": {
   "display_name": "Python 3",
   "language": "python",
   "name": "python3"
  },
  "language_info": {
   "codemirror_mode": {
    "name": "ipython",
    "version": 3
   },
   "file_extension": ".py",
   "mimetype": "text/x-python",
   "name": "python",
   "nbconvert_exporter": "python",
   "pygments_lexer": "ipython3",
   "version": "3.7.3"
  },
  "varInspector": {
   "cols": {
    "lenName": 16,
    "lenType": 16,
    "lenVar": 40
   },
   "kernels_config": {
    "python": {
     "delete_cmd_postfix": "",
     "delete_cmd_prefix": "del ",
     "library": "var_list.py",
     "varRefreshCmd": "print(var_dic_list())"
    },
    "r": {
     "delete_cmd_postfix": ") ",
     "delete_cmd_prefix": "rm(",
     "library": "var_list.r",
     "varRefreshCmd": "cat(var_dic_list()) "
    }
   },
   "types_to_exclude": [
    "module",
    "function",
    "builtin_function_or_method",
    "instance",
    "_Feature"
   ],
   "window_display": false
  }
 },
 "nbformat": 4,
 "nbformat_minor": 2
}
