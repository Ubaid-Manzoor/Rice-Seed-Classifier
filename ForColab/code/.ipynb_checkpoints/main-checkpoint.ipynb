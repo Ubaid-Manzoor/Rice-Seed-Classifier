{
 "cells": [
  {
   "cell_type": "code",
   "execution_count": 0,
   "metadata": {
    "colab": {
     "base_uri": "https://localhost:8080/",
     "height": 34
    },
    "colab_type": "code",
    "executionInfo": {
     "elapsed": 2193,
     "status": "ok",
     "timestamp": 1560320689233,
     "user": {
      "displayName": "ubaid manzoor wani",
      "photoUrl": "https://lh6.googleusercontent.com/-ItGmv7lvkd0/AAAAAAAAAAI/AAAAAAAAAXk/1wbuvLTP0Ck/s64/photo.jpg",
      "userId": "15465009476459618933"
     },
     "user_tz": -330
    },
    "id": "C00o7NpMkjbP",
    "outputId": "0cdc5eeb-6256-40f2-aeea-5913c75ecbad"
   },
   "outputs": [
    {
     "name": "stdout",
     "output_type": "stream",
     "text": [
      "Drive already mounted at /content/gdrive; to attempt to forcibly remount, call drive.mount(\"/content/gdrive\", force_remount=True).\n"
     ]
    }
   ],
   "source": [
    "def mount_drive():\n",
    "  from google.colab import drive\n",
    "  drive.mount('/content/gdrive')\n",
    "mount_drive()"
   ]
  },
  {
   "cell_type": "code",
   "execution_count": 0,
   "metadata": {
    "colab": {},
    "colab_type": "code",
    "id": "UZrUkYCfXQs6"
   },
   "outputs": [],
   "source": [
    "# !rm -rf Data_new"
   ]
  },
  {
   "cell_type": "code",
   "execution_count": 0,
   "metadata": {
    "colab": {},
    "colab_type": "code",
    "id": "GfwWcQudl0PF"
   },
   "outputs": [],
   "source": [
    "\n",
    "!pip install -U -q PyDrive\n",
    "from pydrive.auth import GoogleAuth\n",
    "from pydrive.drive import GoogleDrive\n",
    "from google.colab import auth\n",
    "from oauth2client.client import GoogleCredentials\n",
    "\n",
    "# Authenticate and create the PyDrive client.\n",
    "# This only needs to be done once per notebook.\n",
    "auth.authenticate_user()\n",
    "gauth = GoogleAuth()\n",
    "gauth.credentials = GoogleCredentials.get_application_default()\n",
    "drive = GoogleDrive(gauth)"
   ]
  },
  {
   "cell_type": "code",
   "execution_count": 0,
   "metadata": {
    "ExecuteTime": {
     "end_time": "2019-05-24T05:53:12.216036Z",
     "start_time": "2019-05-24T05:53:10.711051Z"
    },
    "colab": {},
    "colab_type": "code",
    "id": "q0zshwfzjpf8"
   },
   "outputs": [],
   "source": [
    "import numpy as np\n",
    "import pandas as pd\n",
    "import cv2\n",
    "import matplotlib.pyplot as plt\n",
    "import tensorflow as tf\n",
    "from tensorflow.keras.models import Sequential\n",
    "from tensorflow.keras.layers import Dense ,Dropout , Activation , Flatten , Conv2D , MaxPooling2D\n",
    "from tensorflow.keras.callbacks import TensorBoard , ModelCheckpoint\n",
    "tf.set_random_seed(1)\n",
    "\n"
   ]
  },
  {
   "cell_type": "code",
   "execution_count": 0,
   "metadata": {
    "colab": {
     "base_uri": "https://localhost:8080/",
     "height": 52
    },
    "colab_type": "code",
    "executionInfo": {
     "elapsed": 5512,
     "status": "ok",
     "timestamp": 1560320863711,
     "user": {
      "displayName": "ubaid manzoor wani",
      "photoUrl": "https://lh6.googleusercontent.com/-ItGmv7lvkd0/AAAAAAAAAAI/AAAAAAAAAXk/1wbuvLTP0Ck/s64/photo.jpg",
      "userId": "15465009476459618933"
     },
     "user_tz": -330
    },
    "id": "kPcMVUW0zVbG",
    "outputId": "3019ae11-7b9a-4277-e37c-5acb43aa0118"
   },
   "outputs": [
    {
     "name": "stderr",
     "output_type": "stream",
     "text": [
      "Using TensorFlow backend.\n"
     ]
    },
    {
     "name": "stdout",
     "output_type": "stream",
     "text": [
      "Object `model.add` not found.\n"
     ]
    }
   ],
   "source": [
    "def load_DataModule():\n",
    "  DataModule = drive.CreateFile({'id':'1OQiv4PxLTDKGUrsq15KF6VyHqyMq58mi'})\n",
    "  DataModule.GetContentFile('DataUtilsModule.ipynb')\n",
    "  %run DataUtilsModule.ipynb\n",
    "\n",
    "load_DataModule()"
   ]
  },
  {
   "cell_type": "code",
   "execution_count": 0,
   "metadata": {
    "colab": {
     "base_uri": "https://localhost:8080/",
     "height": 34
    },
    "colab_type": "code",
    "executionInfo": {
     "elapsed": 12652,
     "status": "ok",
     "timestamp": 1560320871723,
     "user": {
      "displayName": "ubaid manzoor wani",
      "photoUrl": "https://lh6.googleusercontent.com/-ItGmv7lvkd0/AAAAAAAAAAI/AAAAAAAAAXk/1wbuvLTP0Ck/s64/photo.jpg",
      "userId": "15465009476459618933"
     },
     "user_tz": -330
    },
    "id": "tBZq7rBXk6r8",
    "outputId": "272dec15-e287-4b93-a755-0f79e0a6dbe4"
   },
   "outputs": [
    {
     "name": "stdout",
     "output_type": "stream",
     "text": [
      "adc.json  DataUtilsModule.ipynb  gdrive  sample_data\n"
     ]
    }
   ],
   "source": [
    "!ls"
   ]
  },
  {
   "cell_type": "markdown",
   "metadata": {
    "colab_type": "text",
    "id": "105tmeLPjpgT"
   },
   "source": [
    "<h2>Already Save The Data No Need To Call The Cell Again</h2>"
   ]
  },
  {
   "cell_type": "code",
   "execution_count": 0,
   "metadata": {
    "ExecuteTime": {
     "end_time": "2019-05-15T12:39:23.199495Z",
     "start_time": "2019-05-15T12:39:04.710816Z"
    },
    "colab": {
     "base_uri": "https://localhost:8080/",
     "height": 104
    },
    "colab_type": "code",
    "executionInfo": {
     "elapsed": 2422009,
     "status": "ok",
     "timestamp": 1559550265798,
     "user": {
      "displayName": "ubaid manzoor wani",
      "photoUrl": "https://lh6.googleusercontent.com/-ItGmv7lvkd0/AAAAAAAAAAI/AAAAAAAAAXk/1wbuvLTP0Ck/s64/photo.jpg",
      "userId": "15465009476459618933"
     },
     "user_tz": -330
    },
    "id": "Vf_GeNFkjpgV",
    "outputId": "654df7e9-9136-4ace-d518-2cf4da696883"
   },
   "outputs": [
    {
     "name": "stdout",
     "output_type": "stream",
     "text": [
      "0\n",
      "1\n",
      "2\n",
      "3\n",
      "4\n"
     ]
    }
   ],
   "source": [
    "# X_train,X_test,Y_train,Y_test,X_dev,Y_dev  = utils.load_data(5 ,\n",
    "#                                                            img_size= 256 , \n",
    "#                                                            batch_size=953,\n",
    "#                                                            data_path=\"/content/gdrive/My Drive/SeedApp/data/input\") \n",
    "# #totalClasses,img_size=50,data_path='../data/input' , batch_size=False, #trainPer=80\n",
    "# X_train = utils.convert2RGB(X_train)\n",
    "# X_test = utils.convert2RGB(X_test)\n",
    "# X_dev = utils.convert2RGB(X_dev)"
   ]
  },
  {
   "cell_type": "code",
   "execution_count": 0,
   "metadata": {
    "colab": {
     "base_uri": "https://localhost:8080/",
     "height": 286
    },
    "colab_type": "code",
    "executionInfo": {
     "elapsed": 1912,
     "status": "ok",
     "timestamp": 1559550657366,
     "user": {
      "displayName": "ubaid manzoor wani",
      "photoUrl": "https://lh6.googleusercontent.com/-ItGmv7lvkd0/AAAAAAAAAAI/AAAAAAAAAXk/1wbuvLTP0Ck/s64/photo.jpg",
      "userId": "15465009476459618933"
     },
     "user_tz": -330
    },
    "id": "JLxlY2jPIvid",
    "outputId": "581c23e8-778e-4f9c-f3ef-49b45a592dd7"
   },
   "outputs": [
    {
     "data": {
      "text/plain": [
       "<matplotlib.image.AxesImage at 0x7fa2f1bf6160>"
      ]
     },
     "execution_count": 62,
     "metadata": {
      "tags": []
     },
     "output_type": "execute_result"
    },
    {
     "data": {
      "image/png": "[encoded data removed]",
      "text/plain": [
       "<Figure size 432x288 with 1 Axes>"
      ]
     },
     "metadata": {
      "tags": []
     },
     "output_type": "display_data"
    }
   ],
   "source": [
    "plt.imshow(X_train[0])"
   ]
  },
  {
   "cell_type": "code",
   "execution_count": 0,
   "metadata": {
    "ExecuteTime": {
     "end_time": "2019-05-15T12:39:27.165197Z",
     "start_time": "2019-05-15T12:39:27.150293Z"
    },
    "colab": {
     "base_uri": "https://localhost:8080/",
     "height": 121
    },
    "colab_type": "code",
    "executionInfo": {
     "elapsed": 1140,
     "status": "ok",
     "timestamp": 1559550662049,
     "user": {
      "displayName": "ubaid manzoor wani",
      "photoUrl": "https://lh6.googleusercontent.com/-ItGmv7lvkd0/AAAAAAAAAAI/AAAAAAAAAXk/1wbuvLTP0Ck/s64/photo.jpg",
      "userId": "15465009476459618933"
     },
     "user_tz": -330
    },
    "id": "6HuosQc5jpge",
    "outputId": "a3c18f3a-daa2-448a-88cd-7cee3c53925b"
   },
   "outputs": [
    {
     "name": "stdout",
     "output_type": "stream",
     "text": [
      "(3808, 256, 256, 3)\n",
      "(3808,)\n",
      "(480, 256, 256, 3)\n",
      "(480,)\n",
      "(475, 256, 256, 3)\n",
      "(475,)\n"
     ]
    }
   ],
   "source": [
    "print(X_train.shape)\n",
    "print(Y_train.shape)\n",
    "\n",
    "print(X_test.shape)\n",
    "print(Y_test.shape)\n",
    "\n",
    "print(X_dev.shape)\n",
    "print(Y_dev.shape)"
   ]
  },
  {
   "cell_type": "code",
   "execution_count": 0,
   "metadata": {
    "colab": {},
    "colab_type": "code",
    "id": "Tyx2c1owRRLv"
   },
   "outputs": [],
   "source": [
    "appPath = 'gdrive/My Drive/SeedApp/'"
   ]
  },
  {
   "cell_type": "code",
   "execution_count": 0,
   "metadata": {
    "colab": {},
    "colab_type": "code",
    "id": "fYU2T6oYM-bO"
   },
   "outputs": [],
   "source": [
    "\n",
    "import shutil\n",
    "def move_file(name='file' , pathToStore='gdrive/My Drive/SeedApp/data/working/'):\n",
    "  shutil.move(\"gdrive/My Drive/{}\".format(name), \"{}{}\".format(pathToStore,name))\n",
    "  \n",
    "def create_file(name='file'):\n",
    "  file = drive.CreateFile({'title': name})\n",
    "  file.Upload()\n",
    "  "
   ]
  },
  {
   "cell_type": "code",
   "execution_count": 0,
   "metadata": {
    "colab": {},
    "colab_type": "code",
    "id": "OZUvu-B2EZZI"
   },
   "outputs": [],
   "source": [
    "def create_files():\n",
    "  create_file('X_test-{}'.format(X_train.shape[1]))\n",
    "  create_file('X_train-{}'.format(X_train.shape[1]))\n",
    "  create_file('Y_test-{}'.format(X_train.shape[1]))\n",
    "  create_file('Y_train-{}'.format(X_train.shape[1]))\n",
    "  create_file('X_dev-{}'.format(X_train.shape[1]))\n",
    "  create_file('Y_dev-{}'.format(X_train.shape[1]))"
   ]
  },
  {
   "cell_type": "code",
   "execution_count": 0,
   "metadata": {
    "colab": {},
    "colab_type": "code",
    "id": "Z2Wfeqi6RUZ1"
   },
   "outputs": [],
   "source": [
    "def move_created_files():\n",
    "  move_file('X_test-{}'.format(X_train.shape[1]))\n",
    "  move_file('X_train-{}'.format(X_train.shape[1]))\n",
    "  move_file('Y_test-{}'.format(X_train.shape[1]))\n",
    "  move_file('Y_train-{}'.format(X_train.shape[1]))\n",
    "  move_file('X_dev-{}'.format(X_train.shape[1]))\n",
    "  move_file('Y_dev-{}'.format(X_train.shape[1]))"
   ]
  },
  {
   "cell_type": "code",
   "execution_count": 0,
   "metadata": {
    "ExecuteTime": {
     "end_time": "2019-05-15T12:39:32.042612Z",
     "start_time": "2019-05-15T12:39:31.855069Z"
    },
    "colab": {},
    "colab_type": "code",
    "id": "0VqyZrcqjpgq"
   },
   "outputs": [],
   "source": [
    "# pathToSave = 'gdrive/My Drive/SeedApp/data/working/'\n",
    "\n",
    "\n",
    "\n",
    "def save_data():\n",
    "  utils.save_data('X_test-{}'.format(X_train.shape[1]) , X_test , pathToSave)\n",
    "  utils.save_data('X_train-{}'.format(X_train.shape[1]) , X_train ,pathToSave)\n",
    "  utils.save_data('Y_test-{}'.format(X_train.shape[1]) , Y_test, pathToSave)\n",
    "  utils.save_data('Y_train-{}'.format(X_train.shape[1]) , Y_train , pathToSave)\n",
    "  utils.save_data('X_dev-{}'.format(X_train.shape[1]) , X_dev , pathToSave)\n",
    "  utils.save_data('Y_dev-{}'.format(X_train.shape[1]) , Y_dev , pathToSave)"
   ]
  },
  {
   "cell_type": "markdown",
   "metadata": {
    "colab_type": "text",
    "id": "2CcFbzRXeLUD"
   },
   "source": []
  },
  {
   "cell_type": "markdown",
   "metadata": {
    "colab_type": "text",
    "id": "Xl0AV2gHjpgx"
   },
   "source": [
    "<h2>Loading Saved Data</h2>"
   ]
  },
  {
   "cell_type": "code",
   "execution_count": 0,
   "metadata": {
    "ExecuteTime": {
     "end_time": "2019-05-17T06:57:46.829406Z",
     "start_time": "2019-05-17T06:57:46.561196Z"
    },
    "colab": {
     "base_uri": "https://localhost:8080/",
     "height": 121
    },
    "colab_type": "code",
    "executionInfo": {
     "elapsed": 25438,
     "status": "ok",
     "timestamp": 1560320905079,
     "user": {
      "displayName": "ubaid manzoor wani",
      "photoUrl": "https://lh6.googleusercontent.com/-ItGmv7lvkd0/AAAAAAAAAAI/AAAAAAAAAXk/1wbuvLTP0Ck/s64/photo.jpg",
      "userId": "15465009476459618933"
     },
     "user_tz": -330
    },
    "id": "ze5PBd9ajpgz",
    "outputId": "62bca4b6-cfae-4280-9af0-05b322b9d644"
   },
   "outputs": [
    {
     "name": "stdout",
     "output_type": "stream",
     "text": [
      "(3808, 256, 256, 3)\n",
      "(3808,)\n",
      "(480, 256, 256, 3)\n",
      "(480,)\n",
      "(475, 256, 256, 3)\n",
      "(475,)\n"
     ]
    }
   ],
   "source": [
    "[X_train,X_test,X_dev,Y_train,Y_test,Y_dev]=utils.load_saved_data(pathToFiles='gdrive/My Drive/SeedApp/data/working/')\n",
    "\n",
    "print(X_train.shape)\n",
    "print(Y_train.shape)\n",
    "\n",
    "print(X_test.shape)\n",
    "print(Y_test.shape)\n",
    "\n",
    "print(X_dev.shape)\n",
    "print(Y_dev.shape)"
   ]
  },
  {
   "cell_type": "markdown",
   "metadata": {
    "colab_type": "text",
    "id": "nbYeJ1OHlVRE"
   },
   "source": [
    "**Normalization**"
   ]
  },
  {
   "cell_type": "code",
   "execution_count": 0,
   "metadata": {
    "colab": {},
    "colab_type": "code",
    "id": "6HQrw8jhlTV8"
   },
   "outputs": [],
   "source": [
    "X_train=X_train/255\n",
    "X_test=X_test/255\n",
    "X_dev=X_dev/255"
   ]
  },
  {
   "cell_type": "code",
   "execution_count": 0,
   "metadata": {
    "ExecuteTime": {
     "end_time": "2019-05-15T13:35:51.745709Z",
     "start_time": "2019-05-15T13:35:51.339855Z"
    },
    "colab": {
     "base_uri": "https://localhost:8080/",
     "height": 34
    },
    "colab_type": "code",
    "executionInfo": {
     "elapsed": 1508,
     "status": "ok",
     "timestamp": 1559814763199,
     "user": {
      "displayName": "ubaid manzoor wani",
      "photoUrl": "https://lh6.googleusercontent.com/-ItGmv7lvkd0/AAAAAAAAAAI/AAAAAAAAAXk/1wbuvLTP0Ck/s64/photo.jpg",
      "userId": "15465009476459618933"
     },
     "user_tz": -330
    },
    "id": "WyevBBH9jpg9",
    "outputId": "88fb36fb-77c7-46af-f7d3-35703b54d760"
   },
   "outputs": [
    {
     "data": {
      "text/plain": [
       "(256, 256, 3)"
      ]
     },
     "execution_count": 107,
     "metadata": {
      "tags": []
     },
     "output_type": "execute_result"
    }
   ],
   "source": [
    "X_train.shape[1:]"
   ]
  },
  {
   "cell_type": "markdown",
   "metadata": {
    "colab_type": "text",
    "id": "AvQL8y4EjphJ"
   },
   "source": [
    "<h2>Quick and Rough Model Using Keras</h2>"
   ]
  },
  {
   "cell_type": "code",
   "execution_count": 0,
   "metadata": {
    "colab": {},
    "colab_type": "code",
    "id": "qhO2J1U8GrqC"
   },
   "outputs": [],
   "source": [
    "def loadModels():\n",
    "  models = drive.CreateFile({'id':'1UT6qT7fbbLic7vPGfBizVNpsqqMFkv5R'})\n",
    "  models.GetContentFile('models.ipynb')\n",
    "  %run models.ipynb\n",
    "\n",
    "loadModels()"
   ]
  },
  {
   "cell_type": "code",
   "execution_count": 1,
   "metadata": {
    "ExecuteTime": {
     "end_time": "2019-06-14T09:27:18.050873Z",
     "start_time": "2019-06-14T09:27:18.037940Z"
    },
    "colab": {},
    "colab_type": "code",
    "id": "_irf5OyBwRH8"
   },
   "outputs": [],
   "source": [
    "def create_parameters():\n",
    "  \n",
    "  ###CREATING PARAMETER DICT\n",
    "  \n",
    "  \n",
    "  #layer Size\n",
    "  layers = [5 , 3] #Conv , #Dense\n",
    "  \n",
    "  #Filters\n",
    "  filters = [8 ,16 ,32 ,32 ,64 ]\n",
    "  \n",
    "  #filter Size\n",
    "  kernel_size = [4 , 4 , 4 , 4 , 4]\n",
    "  \n",
    "  #padding [ ['Conv' , 'MaxPool'] ]\n",
    "  padding = [['valid' , 'valid'] , ['same' , 'same'] , ['same' , 'same'] , ['valid' , 'same'] , ['valid' , 'valid'] ]\n",
    "  \n",
    "  #pool_size\n",
    "  \n",
    "  pool_size = [2,2,2,2,2]\n",
    "\n",
    "  #Nodes in Dense Layers\n",
    "  dense_layers_size = [128 , 64 , 5]\n",
    "\n",
    "  #Activation for all Layers\n",
    "  activation = ['relu' ,'relu' ,'relu' ,'relu' ,'relu' ,'relu' ,'relu'  ,'softmax' ]\n",
    "  \n",
    "  parameterDict = {\n",
    "      'layers' : layers,\n",
    "      'filters' : filters,\n",
    "      'kernel_size' : kernel_size,\n",
    "      'padding': padding,\n",
    "      'pool_size':pool_size,\n",
    "      'dense_layers_size' : dense_layers_size,\n",
    "      'activation' : activation\n",
    "  }\n",
    "  \n",
    "  \n",
    "  ###CREATING CALLBACK DICT\n",
    "  \n",
    "  callbackDict = {\n",
    "      'custom' : True,\n",
    "      'tensorboard' : True,\n",
    "      'modelcheckpoint' : True,\n",
    "      'modelcheckpoint_path' : '/content/gdrive/My Drive/SeedApp/data/SavedModels/'\n",
    "  }\n",
    "  \n",
    "  return parameterDict , callbackDict\n",
    "  \n",
    "parametersDict , callbackDict = create_parameters()"
   ]
  },
  {
   "cell_type": "code",
   "execution_count": 0,
   "metadata": {
    "colab": {
     "base_uri": "https://localhost:8080/",
     "height": 330
    },
    "colab_type": "code",
    "executionInfo": {
     "elapsed": 1637,
     "status": "ok",
     "timestamp": 1560325648043,
     "user": {
      "displayName": "ubaid manzoor wani",
      "photoUrl": "https://lh6.googleusercontent.com/-ItGmv7lvkd0/AAAAAAAAAAI/AAAAAAAAAXk/1wbuvLTP0Ck/s64/photo.jpg",
      "userId": "15465009476459618933"
     },
     "user_tz": -330
    },
    "id": "IuXB1tpY2qkw",
    "outputId": "49f73f85-7b26-4986-8f19-fbccff50c63f"
   },
   "outputs": [
    {
     "data": {
      "text/plain": [
       "{'activation': ['relu',\n",
       "  'relu',\n",
       "  'relu',\n",
       "  'relu',\n",
       "  'relu',\n",
       "  'relu',\n",
       "  'relu',\n",
       "  'softmax'],\n",
       " 'dense_layers_size': [128, 64, 5],\n",
       " 'filters': [8, 16, 32, 32, 64],\n",
       " 'kernel_size': [4, 4, 4, 4, 4],\n",
       " 'layers': [5, 3],\n",
       " 'padding': [['valid', 'valid'],\n",
       "  ['same', 'same'],\n",
       "  ['same', 'same'],\n",
       "  ['valid', 'same'],\n",
       "  ['valid', 'valid']],\n",
       " 'pool_size': [2, 2, 2, 2, 2]}"
      ]
     },
     "execution_count": 49,
     "metadata": {
      "tags": []
     },
     "output_type": "execute_result"
    }
   ],
   "source": [
    "parameters\n"
   ]
  },
  {
   "cell_type": "code",
   "execution_count": null,
   "metadata": {},
   "outputs": [],
   "source": []
  },
  {
   "cell_type": "code",
   "execution_count": 72,
   "metadata": {
    "ExecuteTime": {
     "end_time": "2019-05-15T13:56:44.597132Z",
     "start_time": "2019-05-15T13:35:54.431298Z"
    },
    "colab": {
     "base_uri": "https://localhost:8080/",
     "height": 1094
    },
    "colab_type": "code",
    "executionInfo": {
     "elapsed": 56955,
     "status": "ok",
     "timestamp": 1560332289051,
     "user": {
      "displayName": "ubaid manzoor wani",
      "photoUrl": "https://lh6.googleusercontent.com/-ItGmv7lvkd0/AAAAAAAAAAI/AAAAAAAAAXk/1wbuvLTP0Ck/s64/photo.jpg",
      "userId": "15465009476459618933"
     },
     "user_tz": -330
    },
    "id": "5tmvWZWfjphL",
    "outputId": "e3139233-388b-484f-e47f-fff6ed4162c3",
    "scrolled": true
   },
   "outputs": [
    {
     "name": "stdout",
     "output_type": "stream",
     "text": [
      "Train on 3808 samples, validate on 475 samples\n",
      "Epoch 1/5\n",
      "3808/3808 [==============================] - 10s 3ms/sample - loss: 1.5565 - acc: 0.2710 - val_loss: 1.3193 - val_acc: 0.5284\n",
      "Epoch 2/5\n",
      "3808/3808 [==============================] - 9s 2ms/sample - loss: 1.0358 - acc: 0.5825 - val_loss: 0.6903 - val_acc: 0.7495\n",
      "Epoch 3/5\n",
      "3808/3808 [==============================] - 9s 2ms/sample - loss: 0.6634 - acc: 0.7243 - val_loss: 0.5954 - val_acc: 0.7516\n",
      "Epoch 4/5\n",
      "3808/3808 [==============================] - 9s 2ms/sample - loss: 0.6841 - acc: 0.7132 - val_loss: 0.5636 - val_acc: 0.7116\n",
      "Epoch 5/5\n",
      "3808/3808 [==============================] - 9s 2ms/sample - loss: 0.5646 - acc: 0.7655 - val_loss: 0.4982 - val_acc: 0.8316\n",
      "_________________________________________________________________\n",
      "Layer (type)                 Output Shape              Param #   \n",
      "=================================================================\n",
      "conv2d (Conv2D)              (None, 253, 253, 8)       392       \n",
      "_________________________________________________________________\n",
      "activation (Activation)      (None, 253, 253, 8)       0         \n",
      "_________________________________________________________________\n",
      "max_pooling2d (MaxPooling2D) (None, 126, 126, 8)       0         \n",
      "_________________________________________________________________\n",
      "conv2d_1 (Conv2D)            (None, 126, 126, 16)      2064      \n",
      "_________________________________________________________________\n",
      "activation_1 (Activation)    (None, 126, 126, 16)      0         \n",
      "_________________________________________________________________\n",
      "max_pooling2d_1 (MaxPooling2 (None, 63, 63, 16)        0         \n",
      "_________________________________________________________________\n",
      "conv2d_2 (Conv2D)            (None, 63, 63, 32)        8224      \n",
      "_________________________________________________________________\n",
      "activation_2 (Activation)    (None, 63, 63, 32)        0         \n",
      "_________________________________________________________________\n",
      "max_pooling2d_2 (MaxPooling2 (None, 32, 32, 32)        0         \n",
      "_________________________________________________________________\n",
      "conv2d_3 (Conv2D)            (None, 29, 29, 32)        16416     \n",
      "_________________________________________________________________\n",
      "activation_3 (Activation)    (None, 29, 29, 32)        0         \n",
      "_________________________________________________________________\n",
      "max_pooling2d_3 (MaxPooling2 (None, 15, 15, 32)        0         \n",
      "_________________________________________________________________\n",
      "conv2d_4 (Conv2D)            (None, 12, 12, 64)        32832     \n",
      "_________________________________________________________________\n",
      "activation_4 (Activation)    (None, 12, 12, 64)        0         \n",
      "_________________________________________________________________\n",
      "max_pooling2d_4 (MaxPooling2 (None, 6, 6, 64)          0         \n",
      "_________________________________________________________________\n",
      "flatten (Flatten)            (None, 2304)              0         \n",
      "_________________________________________________________________\n",
      "dense (Dense)                (None, 128)               295040    \n",
      "_________________________________________________________________\n",
      "activation_5 (Activation)    (None, 128)               0         \n",
      "_________________________________________________________________\n",
      "dense_1 (Dense)              (None, 64)                8256      \n",
      "_________________________________________________________________\n",
      "activation_6 (Activation)    (None, 64)                0         \n",
      "_________________________________________________________________\n",
      "dense_2 (Dense)              (None, 5)                 325       \n",
      "_________________________________________________________________\n",
      "activation_7 (Activation)    (None, 5)                 0         \n",
      "=================================================================\n",
      "Total params: 363,549\n",
      "Trainable params: 363,549\n",
      "Non-trainable params: 0\n",
      "_________________________________________________________________\n"
     ]
    }
   ],
   "source": [
    "#Create A Model\n",
    "\n",
    "Cnnmodel = kerasCnnModel(parametersDict , callbackDict)\n",
    "# model = Cnnmodel.create_model()\n",
    "Cnnmodel.compile_model()#Parameters Value Set by Default\n",
    "\n",
    "# for layer in model.layers:\n",
    "#     print(layer.output_shape)\n",
    "Cnnmodel.run_model(X_train , Y_train , X_dev , Y_dev)\n",
    "model.summary()\n",
    "\n",
    "\n"
   ]
  },
  {
   "cell_type": "code",
   "execution_count": 0,
   "metadata": {
    "colab": {},
    "colab_type": "code",
    "id": "e0JDZJDx6F8y"
   },
   "outputs": [],
   "source": [
    "!rm -rf logs"
   ]
  },
  {
   "cell_type": "code",
   "execution_count": 0,
   "metadata": {
    "ExecuteTime": {
     "end_time": "2019-05-15T14:16:34.445052Z",
     "start_time": "2019-05-15T14:16:33.847544Z"
    },
    "colab": {},
    "colab_type": "code",
    "id": "TCCWJAXcjphd",
    "scrolled": true
   },
   "outputs": [],
   "source": [
    "prediction = model.predict(X_test)\n",
    "prediction.argmax(axis=1)\n"
   ]
  },
  {
   "cell_type": "code",
   "execution_count": 0,
   "metadata": {
    "ExecuteTime": {
     "end_time": "2019-05-15T14:16:34.963355Z",
     "start_time": "2019-05-15T14:16:34.954416Z"
    },
    "colab": {
     "base_uri": "https://localhost:8080/",
     "height": 34
    },
    "colab_type": "code",
    "executionInfo": {
     "elapsed": 1116,
     "status": "ok",
     "timestamp": 1560321011933,
     "user": {
      "displayName": "ubaid manzoor wani",
      "photoUrl": "https://lh6.googleusercontent.com/-ItGmv7lvkd0/AAAAAAAAAAI/AAAAAAAAAXk/1wbuvLTP0Ck/s64/photo.jpg",
      "userId": "15465009476459618933"
     },
     "user_tz": -330
    },
    "id": "igRzQYWCjph6",
    "outputId": "91afe8ce-febf-4f4d-8c4a-efb14c1ed35e"
   },
   "outputs": [
    {
     "name": "stdout",
     "output_type": "stream",
     "text": [
      "78.125 % Accuracy On Test Set\n"
     ]
    }
   ],
   "source": [
    "print(sum(prediction.argmax(axis=1) == Y_test)/Y_test.size * 100, \"% Accuracy On Test Set\")"
   ]
  },
  {
   "cell_type": "markdown",
   "metadata": {
    "colab_type": "text",
    "id": "pdJU9tTwjpiC"
   },
   "source": [
    "<h2>Model Using TensorFlow<h2>"
   ]
  },
  {
   "cell_type": "code",
   "execution_count": 0,
   "metadata": {
    "ExecuteTime": {
     "end_time": "2019-05-24T14:19:26.730806Z",
     "start_time": "2019-05-24T14:19:26.620742Z"
    },
    "colab": {},
    "colab_type": "code",
    "id": "jQPNtJkpjpiE"
   },
   "outputs": [],
   "source": [
    "%run models.ipynb\n",
    "# import import_ipynb\n",
    "# import models"
   ]
  },
  {
   "cell_type": "code",
   "execution_count": 0,
   "metadata": {
    "ExecuteTime": {
     "end_time": "2019-05-24T14:19:26.872724Z",
     "start_time": "2019-05-24T14:19:26.773449Z"
    },
    "colab": {},
    "colab_type": "code",
    "id": "GIHa64zCjpiM",
    "scrolled": true
   },
   "outputs": [],
   "source": [
    "model = cnn()"
   ]
  },
  {
   "cell_type": "code",
   "execution_count": 0,
   "metadata": {
    "ExecuteTime": {
     "end_time": "2019-05-24T14:20:38.149340Z",
     "start_time": "2019-05-24T14:20:03.044843Z"
    },
    "colab": {},
    "colab_type": "code",
    "id": "JG5qDz8HjpiT",
    "outputId": "8e405b55-6a7d-4a35-a240-791dfad7e674",
    "scrolled": false
   },
   "outputs": [
    {
     "name": "stdout",
     "output_type": "stream",
     "text": [
      "../data/CheckPoints/last_model.txt\n",
      "INFO:tensorflow:Restoring parameters from ../data/CheckPoints/my-model-9-69.33%/69.333%\n",
      "Cost after Epoch 1: 6.694320 => Training Acc : 0.665000 => Dev Acc : 0.546667 => Test Acc : 0.626667 \n",
      "Cost after Epoch 2: 6.658490 => Training Acc : 0.786667 => Dev Acc : 0.720000 => Test Acc : 0.693333 *\n",
      "Cost after Epoch 3: 5.656879 => Training Acc : 0.753333 => Dev Acc : 0.666667 => Test Acc : 0.773333 \n",
      "Cost after Epoch 4: 5.990747 => Training Acc : 0.766667 => Dev Acc : 0.680000 => Test Acc : 0.760000 \n",
      "Cost after Epoch 5: 5.103332 => Training Acc : 0.780000 => Dev Acc : 0.653333 => Test Acc : 0.733333 \n",
      "Cost after Epoch 6: 5.079866 => Training Acc : 0.776667 => Dev Acc : 0.653333 => Test Acc : 0.773333 \n",
      "Cost after Epoch 7: 4.819659 => Training Acc : 0.806667 => Dev Acc : 0.666667 => Test Acc : 0.813333 \n",
      "Cost after Epoch 8: 4.982584 => Training Acc : 0.806667 => Dev Acc : 0.653333 => Test Acc : 0.800000 \n",
      "Cost after Epoch 9: 5.372106 => Training Acc : 0.750000 => Dev Acc : 0.666667 => Test Acc : 0.760000 \n",
      "Cost after Epoch 10: 5.308882 => Training Acc : 0.780000 => Dev Acc : 0.653333 => Test Acc : 0.746667 \n"
     ]
    },
    {
     "data": {
      "image/png": "[encoded data removed]",
      "text/plain": [
       "<Figure size 432x288 with 1 Axes>"
      ]
     },
     "metadata": {
      "needs_background": "light",
      "tags": []
     },
     "output_type": "display_data"
    }
   ],
   "source": [
    "model.fit()"
   ]
  },
  {
   "cell_type": "code",
   "execution_count": 0,
   "metadata": {
    "colab": {},
    "colab_type": "code",
    "id": "LF-KIeJMjpic"
   },
   "outputs": [],
   "source": []
  },
  {
   "cell_type": "code",
   "execution_count": 0,
   "metadata": {
    "colab": {},
    "colab_type": "code",
    "id": "9ZyoQl6xjpih"
   },
   "outputs": [],
   "source": []
  },
  {
   "cell_type": "code",
   "execution_count": 0,
   "metadata": {
    "colab": {},
    "colab_type": "code",
    "id": "V6P_e84RmInW"
   },
   "outputs": [],
   "source": []
  }
 ],
 "metadata": {
  "accelerator": "GPU",
  "colab": {
   "collapsed_sections": [],
   "name": "main.ipynb",
   "provenance": [],
   "version": "0.3.2"
  },
  "kernelspec": {
   "display_name": "Python 3",
   "language": "python",
   "name": "python3"
  },
  "language_info": {
   "codemirror_mode": {
    "name": "ipython",
    "version": 3
   },
   "file_extension": ".py",
   "mimetype": "text/x-python",
   "name": "python",
   "nbconvert_exporter": "python",
   "pygments_lexer": "ipython3",
   "version": "3.7.3"
  },
  "varInspector": {
   "cols": {
    "lenName": 16,
    "lenType": 16,
    "lenVar": 40
   },
   "kernels_config": {
    "python": {
     "delete_cmd_postfix": "",
     "delete_cmd_prefix": "del ",
     "library": "var_list.py",
     "varRefreshCmd": "print(var_dic_list())"
    },
    "r": {
     "delete_cmd_postfix": ") ",
     "delete_cmd_prefix": "rm(",
     "library": "var_list.r",
     "varRefreshCmd": "cat(var_dic_list()) "
    }
   },
   "types_to_exclude": [
    "module",
    "function",
    "builtin_function_or_method",
    "instance",
    "_Feature"
   ],
   "window_display": false
  }
 },
 "nbformat": 4,
 "nbformat_minor": 1
}
