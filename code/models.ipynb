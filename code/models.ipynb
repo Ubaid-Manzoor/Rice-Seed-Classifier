{
 "cells": [
  {
   "cell_type": "code",
   "execution_count": 9,
   "metadata": {
    "ExecuteTime": {
     "end_time": "2019-05-06T13:56:40.218830Z",
     "start_time": "2019-05-06T13:56:40.180599Z"
    }
   },
   "outputs": [],
   "source": [
    "import numpy as np\n",
    "import pandas as pd\n",
    "import cv2\n",
    "import matplotlib.pyplot as plt\n",
    "%run DataUtilsModule.ipynb"
   ]
  },
  {
   "cell_type": "markdown",
   "metadata": {},
   "source": [
    "<h2>Already Save The Data No Need To Call The Cell Again</h2>"
   ]
  },
  {
   "cell_type": "code",
   "execution_count": 10,
   "metadata": {
    "ExecuteTime": {
     "end_time": "2019-05-06T13:56:48.779335Z",
     "start_time": "2019-05-06T13:56:41.117609Z"
    }
   },
   "outputs": [
    {
     "name": "stdout",
     "output_type": "stream",
     "text": [
      "(900, 50, 50, 3)\n",
      "(100, 50, 50, 3)\n"
     ]
    }
   ],
   "source": [
    "# train,test = utl.load_data(5 , batch_size=200) #totalClasses,img_size=50,data_path='../data/input' , batch_size=False, \n",
    "#                                               #trainPer=90\n",
    "# train = utl.convert2RGB(train)\n",
    "# test = utl.convert2RGB(test)\n",
    "\n",
    "\n",
    "# utl.save_data('retrivedTestData' , test)\n",
    "# utl.save_data('retrivedTrainData' , train)"
   ]
  },
  {
   "cell_type": "markdown",
   "metadata": {},
   "source": [
    "<h2>Loading Saved Data</h2>"
   ]
  },
  {
   "cell_type": "code",
   "execution_count": 11,
   "metadata": {
    "ExecuteTime": {
     "end_time": "2019-05-06T13:57:14.935377Z",
     "start_time": "2019-05-06T13:57:14.920466Z"
    }
   },
   "outputs": [
    {
     "name": "stdout",
     "output_type": "stream",
     "text": [
      "(900, 50, 50, 3)\n",
      "(100, 50, 50, 3)\n"
     ]
    }
   ],
   "source": [
    "utl = utils()\n",
    "\n",
    "test = utl.load_saved_data('retrivedTestData')\n",
    "train = utl.load_saved_data('retrivedTrainData')\n",
    "print(train.shape)\n",
    "print(test.shape)"
   ]
  },
  {
   "cell_type": "code",
   "execution_count": null,
   "metadata": {},
   "outputs": [],
   "source": []
  }
 ],
 "metadata": {
  "kernelspec": {
   "display_name": "Python 3",
   "language": "python",
   "name": "python3"
  },
  "language_info": {
   "codemirror_mode": {
    "name": "ipython",
    "version": 3
   },
   "file_extension": ".py",
   "mimetype": "text/x-python",
   "name": "python",
   "nbconvert_exporter": "python",
   "pygments_lexer": "ipython3",
   "version": "3.7.3"
  },
  "varInspector": {
   "cols": {
    "lenName": 16,
    "lenType": 16,
    "lenVar": 40
   },
   "kernels_config": {
    "python": {
     "delete_cmd_postfix": "",
     "delete_cmd_prefix": "del ",
     "library": "var_list.py",
     "varRefreshCmd": "print(var_dic_list())"
    },
    "r": {
     "delete_cmd_postfix": ") ",
     "delete_cmd_prefix": "rm(",
     "library": "var_list.r",
     "varRefreshCmd": "cat(var_dic_list()) "
    }
   },
   "types_to_exclude": [
    "module",
    "function",
    "builtin_function_or_method",
    "instance",
    "_Feature"
   ],
   "window_display": false
  }
 },
 "nbformat": 4,
 "nbformat_minor": 2
}
