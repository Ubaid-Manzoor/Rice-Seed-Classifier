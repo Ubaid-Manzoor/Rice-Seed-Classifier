{
 "cells": [
  {
   "cell_type": "code",
   "execution_count": 2,
   "metadata": {
    "ExecuteTime": {
     "end_time": "2019-05-06T13:44:25.139028Z",
     "start_time": "2019-05-06T13:44:23.696993Z"
    }
   },
   "outputs": [
    {
     "name": "stderr",
     "output_type": "stream",
     "text": [
      "Using TensorFlow backend.\n"
     ]
    }
   ],
   "source": [
    "import cv2\n",
    "import pickle\n",
    "import os\n",
    "import math\n",
    "import keras\n",
    "import pickle"
   ]
  },
  {
   "cell_type": "code",
   "execution_count": 7,
   "metadata": {
    "ExecuteTime": {
     "end_time": "2019-05-07T16:07:06.795818Z",
     "start_time": "2019-05-07T16:07:06.760335Z"
    },
    "code_folding": []
   },
   "outputs": [],
   "source": [
    "class utils:\n",
    "            \n",
    "    def convert2RGB(self , data):\n",
    "        for index , img in enumerate(data):\n",
    "            data[index] = cv2.cvtColor(img , cv2.COLOR_BGR2RGB)\n",
    "        return data\n",
    "        \n",
    "        \n",
    "        \n",
    "    def __getTrainingData(self , length , classPath,className , img_size):\n",
    "        fullImageArr = list()\n",
    "        imageLabels = []\n",
    "        for img in os.listdir(classPath)[0:length]:\n",
    "            imageLabels.append(className);\n",
    "            img_arr = cv2.imread(os.path.join(classPath,img))\n",
    "            img_arr = cv2.resize(img_arr , (img_size,img_size))\n",
    "            \n",
    "            fullImageArr.append(img_arr)\n",
    "        return fullImageArr , imageLabels;\n",
    "\n",
    "\n",
    "    def __getTestData(self, trainend , testend , classPath ,className , img_size):\n",
    "        fullImageArr = list()\n",
    "        imageLabels = []\n",
    "        for img in os.listdir(classPath)[trainend :trainend+testend]:\n",
    "            imageLabels.append(className)\n",
    "            img_arr = cv2.imread(os.path.join(classPath,img))\n",
    "            img_arr = cv2.resize(img_arr , (img_size,img_size))\n",
    "            \n",
    "            fullImageArr.append(img_arr)\n",
    "        return fullImageArr , imageLabels\n",
    "\n",
    "    \n",
    "    def __getCurrentClassData(self , classPath , className , trainPer , batchsize , img_size):\n",
    "        if(batchsize):\n",
    "            totalImages = len(os.listdir(classPath)[0:batchsize])\n",
    "        else:\n",
    "            totalImages = len(os.listdir(classPath))\n",
    "\n",
    "        trainingDataLen = math.floor((totalImages/100) * trainPer)\n",
    "        testDataLen = totalImages - trainingDataLen;\n",
    "        \n",
    "        X_trainingData , Y_train_labels= self.__getTrainingData(trainingDataLen , classPath,className , img_size)\n",
    "        X_testData , Y_test_labels= self.__getTestData(trainingDataLen , testDataLen , classPath,className , img_size)\n",
    "\n",
    "        return X_trainingData , X_testData , Y_train_labels , Y_test_labels\n",
    "\n",
    "    def load_data(self , totalClasses , img_size=50 , data_path='../data/input' , batch_size=False, trainPer=90):\n",
    "        classesList = os.listdir(data_path)\n",
    "        X_TrainingData = []\n",
    "        X_TestData = []\n",
    "        Y_TrainingData = []\n",
    "        Y_TestData = []\n",
    "        for index , cls in enumerate(classesList):\n",
    "            className = index\n",
    "            X_train , X_test , Y_train , Y_test = self.__getCurrentClassData(os.path.join(data_path , cls), className , trainPer , batch_size ,img_size);\n",
    "            X_TrainingData.append(X_train)\n",
    "            X_TestData.append(X_test)\n",
    "            Y_TrainingData.append(Y_train)\n",
    "            Y_TestData.append(Y_test)\n",
    "\n",
    "        X_TrainingData = np.array(X_TrainingData)\n",
    "        X_TestData = np.array(X_TestData)\n",
    "        Y_TrainingData = np.array(Y_TrainingData)\n",
    "        Y_TestData = np.array(Y_TestData)\n",
    "        \n",
    "\n",
    "        X_TestData = X_TestData.reshape(X_TestData.shape[0] * X_TestData.shape[1] , \n",
    "                                  X_TestData.shape[2] , \n",
    "                                  X_TestData.shape[3] , \n",
    "                                  X_TestData.shape[4])\n",
    "        X_TrainingData = X_TrainingData.reshape(X_TrainingData.shape[0] * X_TrainingData.shape[1] , \n",
    "                                      X_TrainingData.shape[2] , \n",
    "                                      X_TrainingData.shape[3] , \n",
    "                                      X_TrainingData.shape[4])\n",
    "        Y_TestData = Y_TestData.reshape(Y_TestData.shape[0] * Y_TestData.shape[1])\n",
    "        Y_TrainingData = Y_TrainingData.reshape(Y_TrainingData.shape[0] * Y_TrainingData.shape[1])\n",
    "        \n",
    "        \n",
    "        return X_TrainingData , X_TestData , Y_TrainingData , Y_TestData \n",
    "    \n",
    "    def save_data(self , fileName , dataToStore , pathToStore = '../data/working/'):\n",
    "        with open(os.path.join(pathToStore, fileName) , 'wb') as file:\n",
    "            pickle.dump(dataToStore , file)\n",
    "        \n",
    "    def load_saved_data(self , fileName , pathToStore = '../data/working/'):\n",
    "        with open(os.path.join(pathToStore , fileName) , 'rb') as file:\n",
    "            data = pickle.load(file)\n",
    "        return data"
   ]
  },
  {
   "cell_type": "code",
   "execution_count": null,
   "metadata": {},
   "outputs": [],
   "source": []
  }
 ],
 "metadata": {
  "kernelspec": {
   "display_name": "Python 3",
   "language": "python",
   "name": "python3"
  },
  "language_info": {
   "codemirror_mode": {
    "name": "ipython",
    "version": 3
   },
   "file_extension": ".py",
   "mimetype": "text/x-python",
   "name": "python",
   "nbconvert_exporter": "python",
   "pygments_lexer": "ipython3",
   "version": "3.7.3"
  },
  "varInspector": {
   "cols": {
    "lenName": 16,
    "lenType": 16,
    "lenVar": 40
   },
   "kernels_config": {
    "python": {
     "delete_cmd_postfix": "",
     "delete_cmd_prefix": "del ",
     "library": "var_list.py",
     "varRefreshCmd": "print(var_dic_list())"
    },
    "r": {
     "delete_cmd_postfix": ") ",
     "delete_cmd_prefix": "rm(",
     "library": "var_list.r",
     "varRefreshCmd": "cat(var_dic_list()) "
    }
   },
   "types_to_exclude": [
    "module",
    "function",
    "builtin_function_or_method",
    "instance",
    "_Feature"
   ],
   "window_display": false
  }
 },
 "nbformat": 4,
 "nbformat_minor": 2
}
