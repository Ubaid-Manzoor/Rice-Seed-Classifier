{
 "cells": [
  {
   "cell_type": "code",
   "execution_count": 30,
   "metadata": {
    "ExecuteTime": {
     "end_time": "2019-05-08T04:21:22.969828Z",
     "start_time": "2019-05-08T04:21:22.929994Z"
    }
   },
   "outputs": [],
   "source": [
    "import numpy as np\n",
    "import pandas as pd\n",
    "import cv2\n",
    "import matplotlib.pyplot as plt\n",
    "%run DataUtilsModule.ipynb"
   ]
  },
  {
   "cell_type": "markdown",
   "metadata": {},
   "source": [
    "<h2>Already Save The Data No Need To Call The Cell Again</h2>"
   ]
  },
  {
   "cell_type": "code",
   "execution_count": 31,
   "metadata": {
    "ExecuteTime": {
     "end_time": "2019-05-08T04:21:25.698835Z",
     "start_time": "2019-05-08T04:21:23.823234Z"
    }
   },
   "outputs": [
    {
     "name": "stdout",
     "output_type": "stream",
     "text": [
      "(200, 50, 50, 3)\n",
      "(25, 50, 50, 3)\n",
      "(200,)\n",
      "(25,)\n",
      "(25, 50, 50, 3)\n",
      "(25,)\n"
     ]
    }
   ],
   "source": [
    "# utl = utils()\n",
    "\n",
    "# X_train,X_test,Y_train,Y_test,X_dev,Y_dev  = utl.load_data(5 , batch_size=50) \n",
    "# #totalClasses,img_size=50,data_path='../data/input' , batch_size=False, #trainPer=80\n",
    "# X_train = utl.convert2RGB(X_train)\n",
    "# X_test = utl.convert2RGB(X_test)"
   ]
  },
  {
   "cell_type": "code",
   "execution_count": 32,
   "metadata": {
    "ExecuteTime": {
     "end_time": "2019-05-08T04:22:11.201748Z",
     "start_time": "2019-05-08T04:22:11.186148Z"
    }
   },
   "outputs": [
    {
     "name": "stdout",
     "output_type": "stream",
     "text": [
      "(200, 50, 50, 3)\n",
      "(200,)\n",
      "(25, 50, 50, 3)\n",
      "(25,)\n",
      "(25, 50, 50, 3)\n",
      "(25,)\n"
     ]
    }
   ],
   "source": [
    "# print(X_train.shape)\n",
    "# print(Y_train.shape)\n",
    "\n",
    "# print(X_test.shape)\n",
    "# print(Y_test.shape)\n",
    "\n",
    "# print(X_dev.shape)\n",
    "# print(Y_dev.shape)"
   ]
  },
  {
   "cell_type": "code",
   "execution_count": 36,
   "metadata": {
    "ExecuteTime": {
     "end_time": "2019-05-08T04:24:47.018491Z",
     "start_time": "2019-05-08T04:24:47.004620Z"
    }
   },
   "outputs": [],
   "source": [
    "# utl.save_data('retrivedX_TestData' , X_test)\n",
    "# utl.save_data('retrivedX_TrainData' , X_train)\n",
    "# utl.save_data('retrivedY_TestData' , Y_test)\n",
    "# utl.save_data('retrivedY_TrainData' , Y_train)\n",
    "# utl.save_data('retrivedX_DevData' , X_dev)\n",
    "# utl.save_data('retrivedY_DevData' , Y_dev)"
   ]
  },
  {
   "cell_type": "markdown",
   "metadata": {},
   "source": [
    "<h2>Loading Saved Data</h2>"
   ]
  },
  {
   "cell_type": "code",
   "execution_count": 37,
   "metadata": {
    "ExecuteTime": {
     "end_time": "2019-05-08T04:25:44.539640Z",
     "start_time": "2019-05-08T04:25:44.515020Z"
    }
   },
   "outputs": [
    {
     "name": "stdout",
     "output_type": "stream",
     "text": [
      "(200, 50, 50, 3)\n",
      "(200,)\n",
      "(25, 50, 50, 3)\n",
      "(25,)\n",
      "(25, 50, 50, 3)\n",
      "(25,)\n"
     ]
    }
   ],
   "source": [
    "utl = utils()\n",
    "\n",
    "X_test = utl.load_saved_data('retrivedX_TestData')\n",
    "X_train = utl.load_saved_data('retrivedX_TrainData')\n",
    "Y_test = utl.load_saved_data('retrivedY_TestData')\n",
    "Y_train = utl.load_saved_data('retrivedY_TrainData')\n",
    "X_dev = utl.load_saved_data('retrivedX_DevData')\n",
    "Y_dev = utl.load_saved_data('retrivedY_DevData')\n",
    "\n",
    "\n",
    "print(X_train.shape)\n",
    "print(Y_train.shape)\n",
    "\n",
    "print(X_test.shape)\n",
    "print(Y_test.shape)\n",
    "\n",
    "print(X_dev.shape)\n",
    "print(Y_dev.shape)"
   ]
  },
  {
   "cell_type": "code",
   "execution_count": null,
   "metadata": {},
   "outputs": [],
   "source": [
    "#dimension of Fully Connected Layer\n",
    "FC_layer_dims = [10]  #Now i just used 1 FC layer there can be many\n",
    "\n",
    "#Create a Parameters dict to Hold all Weights\n",
    "  #The Weight_shape has to be create manually \n",
    "  parameters_shape = {}\n",
    "  if gray_scale:\n",
    "    Weight_shapes = [[4,4,1,5] , [3,3,5,10] , [2,2,10,15]]# length of Weight_Shape depends on number of layers\n",
    "  else:\n",
    "    Weight_shapes = [[4,4,3,5] , [3,3,5,10] , [2,2,10,15]]# length of Weight_Shape depends on number of layers\n",
    "  for i,shape in enumerate(Weight_shapes):\n",
    "    l=i+1\n",
    "    parameters_shape[\"W\"+str(l)] = shape\n",
    "  \n",
    "  #define non learning parameters \n",
    "  stride = [[1,3] , [1,2] , [1,2]] # [[stride of conv layer , stride for max pool layer],[],[]]\n",
    "  window_size = [3,2,2] #[for first maxpool layer,for second,for third]\n",
    "\n"
   ]
  }
 ],
 "metadata": {
  "kernelspec": {
   "display_name": "Python 3",
   "language": "python",
   "name": "python3"
  },
  "language_info": {
   "codemirror_mode": {
    "name": "ipython",
    "version": 3
   },
   "file_extension": ".py",
   "mimetype": "text/x-python",
   "name": "python",
   "nbconvert_exporter": "python",
   "pygments_lexer": "ipython3",
   "version": "3.7.3"
  },
  "varInspector": {
   "cols": {
    "lenName": 16,
    "lenType": 16,
    "lenVar": 40
   },
   "kernels_config": {
    "python": {
     "delete_cmd_postfix": "",
     "delete_cmd_prefix": "del ",
     "library": "var_list.py",
     "varRefreshCmd": "print(var_dic_list())"
    },
    "r": {
     "delete_cmd_postfix": ") ",
     "delete_cmd_prefix": "rm(",
     "library": "var_list.r",
     "varRefreshCmd": "cat(var_dic_list()) "
    }
   },
   "types_to_exclude": [
    "module",
    "function",
    "builtin_function_or_method",
    "instance",
    "_Feature"
   ],
   "window_display": false
  }
 },
 "nbformat": 4,
 "nbformat_minor": 2
}
