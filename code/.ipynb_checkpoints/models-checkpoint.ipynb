{
 "cells": [
  {
   "cell_type": "code",
   "execution_count": 30,
   "metadata": {
    "ExecuteTime": {
     "end_time": "2019-05-08T04:21:22.969828Z",
     "start_time": "2019-05-08T04:21:22.929994Z"
    }
   },
   "outputs": [],
   "source": [
    "import numpy as np\n",
    "import pandas as pd\n",
    "import cv2\n",
    "import matplotlib.pyplot as plt\n",
    "%run DataUtilsModule.ipynb"
   ]
  },
  {
   "cell_type": "markdown",
   "metadata": {},
   "source": [
    "<h2>Already Save The Data No Need To Call The Cell Again</h2>"
   ]
  },
  {
   "cell_type": "code",
   "execution_count": 31,
   "metadata": {
    "ExecuteTime": {
     "end_time": "2019-05-08T04:21:25.698835Z",
     "start_time": "2019-05-08T04:21:23.823234Z"
    }
   },
   "outputs": [
    {
     "name": "stdout",
     "output_type": "stream",
     "text": [
      "(200, 50, 50, 3)\n",
      "(25, 50, 50, 3)\n",
      "(200,)\n",
      "(25,)\n",
      "(25, 50, 50, 3)\n",
      "(25,)\n"
     ]
    }
   ],
   "source": [
    "utl = utils()\n",
    "\n",
    "X_train,X_test,Y_train,Y_test,X_dev,Y_dev  = utl.load_data(5 , batch_size=50) \n",
    "#totalClasses,img_size=50,data_path='../data/input' , batch_size=False, #trainPer=80\n",
    "X_train = utl.convert2RGB(X_train)\n",
    "X_test = utl.convert2RGB(X_test)"
   ]
  },
  {
   "cell_type": "code",
   "execution_count": 22,
   "metadata": {
    "ExecuteTime": {
     "end_time": "2019-05-08T03:53:32.775355Z",
     "start_time": "2019-05-08T03:53:32.756901Z"
    }
   },
   "outputs": [],
   "source": [
    "# utl.save_data('retrivedX_TestData' , X_test)\n",
    "# utl.save_data('retrivedX_TrainData' , X_train)\n",
    "# utl.save_data('retrivedY_TestData' , Y_test)\n",
    "# utl.save_data('retrivedY_TrainData' , Y_train)"
   ]
  },
  {
   "cell_type": "markdown",
   "metadata": {},
   "source": [
    "<h2>Loading Saved Data</h2>"
   ]
  },
  {
   "cell_type": "code",
   "execution_count": 23,
   "metadata": {
    "ExecuteTime": {
     "end_time": "2019-05-08T03:53:32.821055Z",
     "start_time": "2019-05-08T03:53:32.809119Z"
    }
   },
   "outputs": [
    {
     "name": "stdout",
     "output_type": "stream",
     "text": [
      "(900, 50, 50, 3)\n",
      "(100, 50, 50, 3)\n",
      "(900,)\n",
      "(100,)\n"
     ]
    }
   ],
   "source": [
    "utl = utils()\n",
    "\n",
    "X_test = utl.load_saved_data('retrivedX_TestData')\n",
    "X_train = utl.load_saved_data('retrivedX_TrainData')\n",
    "Y_test = utl.load_saved_data('retrivedY_TestData')\n",
    "Y_train = utl.load_saved_data('retrivedY_TrainData')\n",
    "\n",
    "\n",
    "print(X_train.shape)\n",
    "print(X_test.shape)\n",
    "print(Y_train.shape)\n",
    "print(Y_test.shape)"
   ]
  },
  {
   "cell_type": "code",
   "execution_count": null,
   "metadata": {},
   "outputs": [],
   "source": []
  }
 ],
 "metadata": {
  "kernelspec": {
   "display_name": "Python 3",
   "language": "python",
   "name": "python3"
  },
  "language_info": {
   "codemirror_mode": {
    "name": "ipython",
    "version": 3
   },
   "file_extension": ".py",
   "mimetype": "text/x-python",
   "name": "python",
   "nbconvert_exporter": "python",
   "pygments_lexer": "ipython3",
   "version": "3.7.3"
  },
  "varInspector": {
   "cols": {
    "lenName": 16,
    "lenType": 16,
    "lenVar": 40
   },
   "kernels_config": {
    "python": {
     "delete_cmd_postfix": "",
     "delete_cmd_prefix": "del ",
     "library": "var_list.py",
     "varRefreshCmd": "print(var_dic_list())"
    },
    "r": {
     "delete_cmd_postfix": ") ",
     "delete_cmd_prefix": "rm(",
     "library": "var_list.r",
     "varRefreshCmd": "cat(var_dic_list()) "
    }
   },
   "types_to_exclude": [
    "module",
    "function",
    "builtin_function_or_method",
    "instance",
    "_Feature"
   ],
   "window_display": false
  }
 },
 "nbformat": 4,
 "nbformat_minor": 2
}
