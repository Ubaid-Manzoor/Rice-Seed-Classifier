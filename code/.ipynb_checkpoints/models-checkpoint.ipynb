{
 "cells": [
  {
   "cell_type": "code",
   "execution_count": 12,
   "metadata": {
    "ExecuteTime": {
     "end_time": "2019-05-16T08:27:14.081606Z",
     "start_time": "2019-05-16T08:27:12.850308Z"
    }
   },
   "outputs": [],
   "source": [
    "import tensorflow as tf"
   ]
  },
  {
   "cell_type": "code",
   "execution_count": 22,
   "metadata": {
    "ExecuteTime": {
     "end_time": "2019-05-16T11:22:09.549169Z",
     "start_time": "2019-05-16T11:22:09.493531Z"
    }
   },
   "outputs": [],
   "source": [
    "class Model(object):\n",
    "    \n",
    "    def load_data(self):\n",
    "        raise NotImplementedError(\"Load_data() Need To be Implemented\")\n",
    "    \n",
    "    def create_placeholders(self):\n",
    "        raise NotImplementedError(\"create_placeholders() Needs to be Implemented\")\n",
    "        \n",
    "    def initialize_parameters(self):\n",
    "        raise NotImplementedError(\"initialize_parameters() Needs to be Implemented\")\n",
    "        \n",
    "    def create_feed_dict(self , input_batch , label_batch):\n",
    "        raise NotImplementedError(\"create_feed_dict() Needs to be Implemented\")\n",
    "        \n",
    "    def add_forward_model(self , input_data):\n",
    "        raise NotImplementedError(\"add_model() Needs to be Implemented\")\n",
    "        \n",
    "    def add_loss_op(self , predict):\n",
    "        raise NotImplementedError(\"add_loss_op() Needs to be Implemented\")\n",
    "    \n",
    "    def run_epoch(self , sess , input_data , input_labels):\n",
    "        raise NotImplementedError(\"run_epoch Needs to be Implemented\")\n",
    "    \n",
    "    def fit(self , sess , input_data , input_labels):\n",
    "        raise NotImplementedError(\"fit() Needs to be Implemented\")\n",
    "        \n",
    "    def predict(self , sess , input_data , input_labels=None):\n",
    "        raise NotImplementedError(\"predict() Needs to be Implemented\")"
   ]
  },
  {
   "cell_type": "code",
   "execution_count": 6,
   "metadata": {
    "ExecuteTime": {
     "end_time": "2019-05-16T08:13:00.031321Z",
     "start_time": "2019-05-16T08:13:00.026831Z"
    },
    "code_folding": []
   },
   "outputs": [],
   "source": [
    "class cnn(Model):\n",
    "    def __init__():\n",
    "        tf.set_random_seed(1)\n",
    "        self.img_height = 1\n",
    "        self.img_width = 1\n",
    "        self.img_channel = 1\n",
    "        self.totalClasses = 5\n",
    "        self.learning_parameter_shape = {}\n",
    "        self.learning_parameters = {}\n",
    "        self.non_learning_parameters = {}\n",
    "        self.stride\n",
    "        self.window_size\n",
    "        self.gray_scale = False\n",
    "        self.dropout = []\n",
    "        self.fully_connented_dims = []\n",
    "        self.learning_rate = 0.01\n",
    "\n",
    "    def __set_shape_var_of_Eachlayers(self):\n",
    "        #For Learning Parameters\n",
    "        filter_shape = [\n",
    "                            [4,4,1,8] ,  #Layer 1\n",
    "                            [4,4,8,16] , #Layer 2\n",
    "                            [4,4,16,32] ,#Layer 3 \n",
    "                            [4,4,32,32] ,#Layer 4\n",
    "                            [4,4,32,64]  #Layer 5\n",
    "                        ]\n",
    "        if not self.gray_scale:\n",
    "            filter_shape[0][2] = 3 \n",
    "        \n",
    "        for index,shape in enumerate(filter_shape):\n",
    "            layer = index+1\n",
    "            self.learning_parameter_shape[\"W\" + str(layer)] = shape\n",
    "        \n",
    "        #For Non-Learning Parameters\n",
    "        \n",
    "        #[for first maxpool layer,for second,for third , ...]\n",
    "        self.window_size = [2,2,2,2,2]\n",
    "        #[stride of conv layer , stride for max pool layer]\n",
    "        self.stride = [[1,2] , [1,2] , [1,2] , [1,2] , [1,2]]\n",
    "        self.dropout = [0 , 0 ,0.3 , 0.4 , 0.4]\n",
    "        \n",
    "        #Shape For FullyConnected Layer\n",
    "        self.fully_connented_dims = [128 , 64] #for last Layer except sofmax Layer\n",
    "        \n",
    "    def __create_placeholders(self):\n",
    "        X = tf.placeholder(dtype=tf.float32 , \n",
    "                           shape=[None , self.img_height , self.img_width , self.img_channel] ,\n",
    "                           name = 'input_values'\n",
    "                          )\n",
    "        Y = tf.placeholder(dtype=tf.float32 ,\n",
    "                           shape=[None , totalClasses] ,\n",
    "                           name=\"input_labels\"\n",
    "                          )\n",
    "    \n",
    "    def __initialize_learning_parameters(self):\n",
    "        layers = len(self.learning_parameter_shape)\n",
    "        for l in range(1, layers+1):\n",
    "            self.learning_parameters[\"W\"+str(l)]=\n",
    "                                    tf.get_variable(\"W\"+str(l) ,\n",
    "                                                    learning_parameter_shape[\"W\"+str(l)] ,\n",
    "                                                    initializer=tf.contrib.layers.xavier_initializer(seed=1)\n",
    "                                                   )\n",
    "    def __initialize_non_learning_parameters(self):\n",
    "        layers = len(self.stride)\n",
    "        \n",
    "        for l in range(1,layers + 1):\n",
    "            self.non_learning_parameters[\"Conv_s\"+str(l)] = self.stride[l-1][0]\n",
    "            self.non_learning_parameters[\"Maxpool_s\"+str(l)] = self.stride[l-1][1]\n",
    "            self.non_learning_parameters[\"Window_size\"+str(l)] = self.window_size[l-1]\n",
    "            self.non_learning_parameters[\"dropout\"+str(l)] = self.dropout[l-1]\n",
    "            \n",
    "        \n",
    "    def __initialize_parameters(self):\n",
    "        self.__set_shape_var_of_Eachlayers()\n",
    "        \n",
    "        self.__initialize_learning_parameters()\n",
    "        self.__initialize_non_learning_parameters()\n",
    "        \n",
    "    def __create_feed_dict(self , input_batch , label_batch):\n",
    "        feed_dict = {}\n",
    "        feed_dict['X'] = input_batch\n",
    "        feed_dict['Y'] = label_batchl\n",
    "        \n",
    "        return feed_dict\n",
    "    \n",
    "    def beforeFlatten(self, X):\n",
    "        LP = self.learning_parameters\n",
    "        NLP = self.non_learning_parameters\n",
    "        \n",
    "        layers = len(LP)\n",
    "        \n",
    "        for l in range(1,layers+1):\n",
    "            #Extract All parameters Needed\n",
    "            conv_s = NLP[\"Conv_s\"+strl(l)]\n",
    "            f = NLP[\"Window_size\"+str(l)]\n",
    "            pool_s = NLP[\"Maxpool_s\"+str(l)]\n",
    "            curr_filter = LP[\"W\"+str(l)]\n",
    "                \n",
    "            #CONV Layer\n",
    "            Z = tf.nn.conv2d(X , curr_filter , strides=[1,s,s,1] , padding='SAME')\n",
    "            \n",
    "            #Activation\n",
    "            A = tf.nn.relu(Z)\n",
    "            \n",
    "            #Maxpool\n",
    "            features = tf.nn.max_pool(A , ksize=[1,f,f,1] , strides=[1,s,s,1] , padding='SAME')\n",
    "        return features\n",
    "\n",
    "    def afterFlatten(self , X):\n",
    "        layers = len(self.fully_connented_dims)\n",
    "        \n",
    "        for l in range(1,layers+1):\n",
    "            Z = tf.contrib.layers.fully_connected(X  , self.fully_connented_dims[l-1] , activation_fn=None)\n",
    "        return Z\n",
    "    def __add_forward_model(self , input_data):\n",
    "        X = beforeFlatten(input_data)\n",
    "        \n",
    "        X_flatten = tf.contrib.layers.flatten(X)\n",
    "        \n",
    "        Z = afterFlatten(X_flatten)\n",
    "        \n",
    "        return Z"
   ]
  }
 ],
 "metadata": {
  "kernelspec": {
   "display_name": "Python 3",
   "language": "python",
   "name": "python3"
  },
  "language_info": {
   "codemirror_mode": {
    "name": "ipython",
    "version": 3
   },
   "file_extension": ".py",
   "mimetype": "text/x-python",
   "name": "python",
   "nbconvert_exporter": "python",
   "pygments_lexer": "ipython3",
   "version": "3.7.3"
  },
  "varInspector": {
   "cols": {
    "lenName": 16,
    "lenType": 16,
    "lenVar": 40
   },
   "kernels_config": {
    "python": {
     "delete_cmd_postfix": "",
     "delete_cmd_prefix": "del ",
     "library": "var_list.py",
     "varRefreshCmd": "print(var_dic_list())"
    },
    "r": {
     "delete_cmd_postfix": ") ",
     "delete_cmd_prefix": "rm(",
     "library": "var_list.r",
     "varRefreshCmd": "cat(var_dic_list()) "
    }
   },
   "types_to_exclude": [
    "module",
    "function",
    "builtin_function_or_method",
    "instance",
    "_Feature"
   ],
   "window_display": false
  }
 },
 "nbformat": 4,
 "nbformat_minor": 2
}
