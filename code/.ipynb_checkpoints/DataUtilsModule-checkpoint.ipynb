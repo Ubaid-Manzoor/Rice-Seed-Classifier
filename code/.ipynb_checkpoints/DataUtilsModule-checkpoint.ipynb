{
 "cells": [
  {
   "cell_type": "code",
   "execution_count": 213,
   "metadata": {
    "ExecuteTime": {
     "end_time": "2019-05-05T17:51:10.034497Z",
     "start_time": "2019-05-05T17:51:10.029714Z"
    }
   },
   "outputs": [],
   "source": [
    "import cv2\n",
    "import pickle\n",
    "import os\n",
    "import math\n",
    "import numpy as np"
   ]
  },
  {
   "cell_type": "code",
   "execution_count": 211,
   "metadata": {
    "ExecuteTime": {
     "end_time": "2019-05-05T17:25:53.243965Z",
     "start_time": "2019-05-05T17:25:53.217660Z"
    },
    "code_folding": []
   },
   "outputs": [],
   "source": [
    "class utils:\n",
    "            \n",
    "    def convert2RGB(self , data):\n",
    "        for index , img in enumerate(data):\n",
    "            data[index] = cv2.cvtColor(img , cv2.COLOR_BGR2RGB)\n",
    "        return data\n",
    "        \n",
    "        \n",
    "        \n",
    "    def __getTrainingData(self , length , classPath , img_size):\n",
    "        fullImageArr = list()\n",
    "        for img in os.listdir(classPath)[0:length]:\n",
    "\n",
    "            img_arr = cv2.imread(os.path.join(classPath,img))\n",
    "            img_arr = cv2.resize(img_arr , (img_size,img_size))\n",
    "#             img_arr = cv2.cvtColor(img_arr , cv2.COLOR_BGR2RGB)\n",
    "            \n",
    "            fullImageArr.append(img_arr)\n",
    "        return fullImageArr\n",
    "\n",
    "\n",
    "    def __getTestData(self, trainend , testend , classPath, img_size):\n",
    "        fullImageArr = list()\n",
    "        for img in os.listdir(classPath)[trainend :trainend+testend]:\n",
    "\n",
    "            img_arr = cv2.imread(os.path.join(classPath,img))\n",
    "            img_arr = cv2.resize(img_arr , (img_size,img_size))\n",
    "#             img_arr = cv2.cvtColor(img_arr , cv2.COLOR_BGR2RGB)\n",
    "            \n",
    "            fullImageArr.append(img_arr)\n",
    "        return fullImageArr\n",
    "\n",
    "    \n",
    "    def __getCurrentClassData(self , classPath , trainPer , batchsize , img_size):\n",
    "        if(batchsize):\n",
    "            totalImages = len(os.listdir(classPath)[0:batchsize])\n",
    "        else:\n",
    "            totalImages = len(os.listdir(classPath))\n",
    "\n",
    "        trainingDataLen = math.floor((totalImages/100) * trainPer)\n",
    "        testDataLen = totalImages - trainingDataLen;\n",
    "\n",
    "        trainingData = getTrainingData(trainingDataLen , classPath , img_size)\n",
    "        testData = getTestData(trainingDataLen , testDataLen , classPath , img_size)\n",
    "\n",
    "        return trainingData , testData\n",
    "\n",
    "    \n",
    "    def load_data(self , totalClasses , img_size=50 , data_path='../data/input' , batch_size=False, trainPer=90):\n",
    "        classesList = os.listdir(data_path)\n",
    "        FullTrainingData = []\n",
    "        FullTestData = []\n",
    "        for cls in classesList:\n",
    "            train , test = getCurrentClassData(os.path.join(data_path , cls) , trainPer , batch_size ,img_size);\n",
    "            FullTrainingData.append(train)\n",
    "            FullTestData.append(test)\n",
    "\n",
    "        FullTrainingData = np.array(FullTrainingData)\n",
    "        FullTestData = np.array(FullTestData)\n",
    "\n",
    "        FullTestData = FullTestData.reshape(FullTestData.shape[0] * FullTestData.shape[1] , \n",
    "                                  FullTestData.shape[2] , \n",
    "                                  FullTestData.shape[3] , \n",
    "                                  FullTestData.shape[4])\n",
    "        FullTrainingData = FullTrainingData.reshape(FullTrainingData.shape[0] * FullTrainingData.shape[1] , \n",
    "                                      FullTrainingData.shape[2] , \n",
    "                                      FullTrainingData.shape[3] , \n",
    "                                      FullTrainingData.shape[4])\n",
    "        return FullTrainingData , FullTestData\n",
    "    \n",
    "    "
   ]
  },
  {
   "cell_type": "code",
   "execution_count": null,
   "metadata": {},
   "outputs": [],
   "source": []
  }
 ],
 "metadata": {
  "kernelspec": {
   "display_name": "Python 3",
   "language": "python",
   "name": "python3"
  },
  "language_info": {
   "codemirror_mode": {
    "name": "ipython",
    "version": 3
   },
   "file_extension": ".py",
   "mimetype": "text/x-python",
   "name": "python",
   "nbconvert_exporter": "python",
   "pygments_lexer": "ipython3",
   "version": "3.7.3"
  },
  "varInspector": {
   "cols": {
    "lenName": 16,
    "lenType": 16,
    "lenVar": 40
   },
   "kernels_config": {
    "python": {
     "delete_cmd_postfix": "",
     "delete_cmd_prefix": "del ",
     "library": "var_list.py",
     "varRefreshCmd": "print(var_dic_list())"
    },
    "r": {
     "delete_cmd_postfix": ") ",
     "delete_cmd_prefix": "rm(",
     "library": "var_list.r",
     "varRefreshCmd": "cat(var_dic_list()) "
    }
   },
   "types_to_exclude": [
    "module",
    "function",
    "builtin_function_or_method",
    "instance",
    "_Feature"
   ],
   "window_display": false
  }
 },
 "nbformat": 4,
 "nbformat_minor": 2
}
