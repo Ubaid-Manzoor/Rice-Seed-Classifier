{
 "cells": [
  {
   "cell_type": "code",
   "execution_count": 2,
   "metadata": {
    "ExecuteTime": {
     "end_time": "2019-06-14T09:32:41.326992Z",
     "start_time": "2019-06-14T09:32:39.638789Z"
    }
   },
   "outputs": [
    {
     "name": "stderr",
     "output_type": "stream",
     "text": [
      "Using TensorFlow backend.\n"
     ]
    }
   ],
   "source": [
    "import numpy as np\n",
    "import pandas as pd\n",
    "import cv2\n",
    "import matplotlib.pyplot as plt\n",
    "import tensorflow as tf\n",
    "from tensorflow.keras.models import Sequential\n",
    "from tensorflow.keras.layers import Dense ,Dropout , Activation , Flatten , Conv2D , MaxPooling2D\n",
    "from tensorflow.keras.callbacks import TensorBoard , ModelCheckpoint\n",
    "tf.set_random_seed(1)\n",
    "%run DataUtilsModule.ipynb"
   ]
  },
  {
   "cell_type": "code",
   "execution_count": 3,
   "metadata": {
    "ExecuteTime": {
     "end_time": "2019-06-14T09:32:41.384540Z",
     "start_time": "2019-06-14T09:32:41.344309Z"
    }
   },
   "outputs": [],
   "source": [
    "keras.callbacks.TensorBoard.on_batch_end??"
   ]
  },
  {
   "cell_type": "markdown",
   "metadata": {},
   "source": [
    "<h2>Already Save The Data No Need To Call The Cell Again</h2>"
   ]
  },
  {
   "cell_type": "code",
   "execution_count": 9,
   "metadata": {
    "ExecuteTime": {
     "end_time": "2019-06-03T09:59:41.631970Z",
     "start_time": "2019-06-03T09:59:39.442420Z"
    }
   },
   "outputs": [
    {
     "name": "stdout",
     "output_type": "stream",
     "text": [
      "0\n",
      "1\n",
      "2\n",
      "3\n",
      "4\n",
      "(200, 10, 10, 3)\n",
      "(200,)\n",
      "(25, 10, 10, 3)\n",
      "(25,)\n",
      "(25, 10, 10, 3)\n",
      "(25,)\n"
     ]
    }
   ],
   "source": [
    "# X_train,X_test,Y_train,Y_test,X_dev,Y_dev  = utils.load_data(5 ,img_size=10 , batch_size=50) \n",
    "# #totalClasses,img_size=50,data_path='../data/input' , batch_size=False, #trainPer=80\n",
    "# X_train = utils.convert2RGB(X_train)\n",
    "# X_test = utils.convert2RGB(X_test)\n",
    "# X_dev = utils.convert2RGB(X_dev)"
   ]
  },
  {
   "cell_type": "code",
   "execution_count": 74,
   "metadata": {
    "ExecuteTime": {
     "end_time": "2019-05-15T12:39:27.165197Z",
     "start_time": "2019-05-15T12:39:27.150293Z"
    }
   },
   "outputs": [
    {
     "name": "stdout",
     "output_type": "stream",
     "text": [
      "(1600, 100, 100, 3)\n",
      "(1600,)\n",
      "(200, 100, 100, 3)\n",
      "(200,)\n",
      "(200, 100, 100, 3)\n",
      "(200,)\n"
     ]
    }
   ],
   "source": [
    "# print(X_train.shape)\n",
    "# print(Y_train.shape)\n",
    "\n",
    "# print(X_test.shape)\n",
    "# print(Y_test.shape)\n",
    "\n",
    "# print(X_dev.shape)\n",
    "# print(Y_dev.shape)"
   ]
  },
  {
   "cell_type": "code",
   "execution_count": 75,
   "metadata": {
    "ExecuteTime": {
     "end_time": "2019-05-15T12:39:32.042612Z",
     "start_time": "2019-05-15T12:39:31.855069Z"
    }
   },
   "outputs": [],
   "source": [
    "# utl.save_data('retrivedX_TestData' , X_test)\n",
    "# utl.save_data('retrivedX_TrainData' , X_train)\n",
    "# utl.save_data('retrivedY_TestData' , Y_test)\n",
    "# utl.save_data('retrivedY_TrainData' , Y_train)\n",
    "# utl.save_data('retrivedX_DevData' , X_dev)\n",
    "# utl.save_data('retrivedY_DevData' , Y_dev)"
   ]
  },
  {
   "cell_type": "markdown",
   "metadata": {},
   "source": [
    "<h2>Loading Saved Data</h2>"
   ]
  },
  {
   "cell_type": "code",
   "execution_count": 4,
   "metadata": {
    "ExecuteTime": {
     "end_time": "2019-06-14T09:32:47.050565Z",
     "start_time": "2019-06-14T09:32:46.824505Z"
    }
   },
   "outputs": [
    {
     "name": "stdout",
     "output_type": "stream",
     "text": [
      "(600, 50, 50, 3)\n",
      "(600,)\n",
      "(75, 50, 50, 3)\n",
      "(75,)\n",
      "(75, 50, 50, 3)\n",
      "(75,)\n"
     ]
    }
   ],
   "source": [
    "# utl = utils()\n",
    "\n",
    "# X_test = utl.load_saved_data('X_Test')/255\n",
    "# X_train = utl.load_saved_data('X_Train')/255\n",
    "# Y_test = utl.load_saved_data('Y_Test')\n",
    "# Y_train = utl.load_saved_data('Y_Train')\n",
    "# X_dev = utl.load_saved_data('X_Dev')/255\n",
    "# Y_dev = utl.load_saved_data('Y_Dev')\n",
    "\n",
    "[X_train , X_test , X_dev , Y_train , Y_test , Y_dev] = utils.load_saved_data()\n",
    "\"\"\n",
    "print(X_train.shape)\n",
    "print(Y_train.shape)\n",
    "\n",
    "print(X_test.shape)\n",
    "print(Y_test.shape)\n",
    "\n",
    "print(X_dev.shape)\n",
    "print(Y_dev.shape)"
   ]
  },
  {
   "cell_type": "code",
   "execution_count": 3,
   "metadata": {
    "ExecuteTime": {
     "end_time": "2019-06-13T14:42:01.744698Z",
     "start_time": "2019-06-13T14:42:01.495004Z"
    }
   },
   "outputs": [
    {
     "data": {
      "text/plain": [
       "<matplotlib.image.AxesImage at 0x7f43b89e7080>"
      ]
     },
     "execution_count": 3,
     "metadata": {},
     "output_type": "execute_result"
    },
    {
     "data": {
      "image/png": "[encoded data removed]",
      "text/plain": [
       "<Figure size 432x288 with 1 Axes>"
      ]
     },
     "metadata": {
      "needs_background": "light"
     },
     "output_type": "display_data"
    }
   ],
   "source": [
    "plt.imshow(X_train[0])"
   ]
  },
  {
   "cell_type": "markdown",
   "metadata": {},
   "source": [
    "<h2>Quick and Rough Model Using Keras</h2>"
   ]
  },
  {
   "cell_type": "code",
   "execution_count": 5,
   "metadata": {
    "ExecuteTime": {
     "end_time": "2019-06-14T09:32:50.611572Z",
     "start_time": "2019-06-14T09:32:50.479158Z"
    }
   },
   "outputs": [],
   "source": [
    "%run models.ipynb"
   ]
  },
  {
   "cell_type": "code",
   "execution_count": 6,
   "metadata": {
    "ExecuteTime": {
     "end_time": "2019-06-14T09:32:50.848941Z",
     "start_time": "2019-06-14T09:32:50.836237Z"
    }
   },
   "outputs": [],
   "source": [
    "def create_parameters():\n",
    "  \n",
    "    ###CREATING PARAMETER DICT\n",
    "\n",
    "\n",
    "    #layer Size\n",
    "    layers = [5 , 3] #Conv , #Dense\n",
    "\n",
    "    #Filters\n",
    "    filters = [8 ,16 ,32 ,32 ,64 ]\n",
    "\n",
    "    #filter Size\n",
    "    kernel_size = [4 , 4 , 4 , 4 , 4]\n",
    "\n",
    "    #padding [ ['Conv' , 'MaxPool'] ]\n",
    "    padding = [['valid' , 'valid'] , ['same' , 'same'] , ['same' , 'same'] , ['valid' , 'same'] , ['valid' , 'valid'] ]\n",
    "\n",
    "    #pool_size\n",
    "\n",
    "    pool_size = [2,2,2,2,2]\n",
    "\n",
    "    #Nodes in Dense Layers\n",
    "    dense_layers_size = [128 , 64 , 5]\n",
    "\n",
    "    #Activation for all Layers\n",
    "    activation = ['relu' ,'relu' ,'relu' ,'relu' ,'relu' ,'relu' ,'relu'  ,'softmax' ]\n",
    "\n",
    "    parameterDict = {\n",
    "      'layers' : layers,\n",
    "      'filters' : filters,\n",
    "      'kernel_size' : kernel_size,\n",
    "      'padding': padding,\n",
    "      'pool_size':pool_size,\n",
    "      'dense_layers_size' : dense_layers_size,\n",
    "      'activation' : activation\n",
    "    }\n",
    "\n",
    "\n",
    "    ###CREATING CALLBACK DICT\n",
    "\n",
    "    callbackDict = {\n",
    "      'custom' : True,\n",
    "      'tensorboard' : True,\n",
    "      'modelcheckpoint' : True,\n",
    "      'modelcheckpoint_path' : '../data/SavedModels/'\n",
    "    }\n",
    "\n",
    "    return parameterDict , callbackDict\n",
    "  \n",
    "parametersDict , callbackDict = create_parameters()"
   ]
  },
  {
   "cell_type": "code",
   "execution_count": 10,
   "metadata": {
    "ExecuteTime": {
     "end_time": "2019-06-14T09:33:35.703838Z",
     "start_time": "2019-06-14T09:33:35.689379Z"
    }
   },
   "outputs": [],
   "source": [
    "def create_parameters():\n",
    "  \n",
    "  ###CREATING PARAMETER DICT\n",
    "  \n",
    "  \n",
    "    #layer Size\n",
    "    layers = [5 , 3] #Conv , #Dense\n",
    "  \n",
    "    #Filters\n",
    "    filters = [8 ,16 ,32 ,32 ,64 ]\n",
    "  \n",
    "    #filter Size\n",
    "    kernel_size = [4 , 4 , 4 , 4 , 4]\n",
    "  \n",
    "    #padding [ ['Conv' , 'MaxPool'] ]\n",
    "    padding = [['same' , 'same'] , ['same' , 'same'] , ['same' , 'same'] , ['same' , 'same'] , ['same' , 'valid'] ]\n",
    "  \n",
    "    #pool_size\n",
    "  \n",
    "    pool_size = [2,2,2,2,2]\n",
    "\n",
    "    #Nodes in Dense Layers\n",
    "    dense_layers_size = [128 , 64 , 5]\n",
    "\n",
    "    #Activation for all Layers\n",
    "    activation = ['relu' ,'relu' ,'relu' ,'relu' ,'relu' ,'relu' ,'relu'  ,'softmax' ]\n",
    "  \n",
    "    parameterDict = {\n",
    "          'layers' : layers,\n",
    "          'filters' : filters,\n",
    "          'kernel_size' : kernel_size,\n",
    "          'padding': padding,\n",
    "          'pool_size':pool_size,\n",
    "          'dense_layers_size' : dense_layers_size,\n",
    "          'activation' : activation\n",
    "      }\n",
    "  \n",
    "  \n",
    "  ###CREATING CALLBACK DICT\n",
    "  \n",
    "    callbackDict = {\n",
    "      'tensorboard' : True,\n",
    "      'modelcheckpoint' : True,\n",
    "      'modelcheckpoint_path' : '../data/SavedModels/'\n",
    "    }\n",
    "  \n",
    "    return parameterDict , callbackDict\n",
    "  \n",
    "parametersDict , callbackDict = create_parameters()"
   ]
  },
  {
   "cell_type": "code",
   "execution_count": null,
   "metadata": {},
   "outputs": [],
   "source": []
  },
  {
   "cell_type": "code",
   "execution_count": null,
   "metadata": {},
   "outputs": [],
   "source": []
  },
  {
   "cell_type": "code",
   "execution_count": 8,
   "metadata": {
    "ExecuteTime": {
     "end_time": "2019-06-14T09:32:54.324171Z",
     "start_time": "2019-06-14T09:32:54.310523Z"
    }
   },
   "outputs": [
    {
     "data": {
      "text/plain": [
       "{'layers': [5, 3],\n",
       " 'filters': [8, 16, 32, 32, 64],\n",
       " 'kernel_size': [4, 4, 4, 4, 4],\n",
       " 'padding': [['same', 'same'],\n",
       "  ['same', 'same'],\n",
       "  ['same', 'same'],\n",
       "  ['same', 'same'],\n",
       "  ['same', 'valid']],\n",
       " 'pool_size': [2, 2, 2, 2, 2],\n",
       " 'dense_layers_size': [128, 64, 5],\n",
       " 'activation': ['relu',\n",
       "  'relu',\n",
       "  'relu',\n",
       "  'relu',\n",
       "  'relu',\n",
       "  'relu',\n",
       "  'relu',\n",
       "  'softmax']}"
      ]
     },
     "execution_count": 8,
     "metadata": {},
     "output_type": "execute_result"
    }
   ],
   "source": [
    "parametersDict"
   ]
  },
  {
   "cell_type": "code",
   "execution_count": 9,
   "metadata": {
    "ExecuteTime": {
     "end_time": "2019-06-14T09:32:56.324401Z",
     "start_time": "2019-06-14T09:32:56.107970Z"
    }
   },
   "outputs": [
    {
     "ename": "KeyError",
     "evalue": "'custom'",
     "output_type": "error",
     "traceback": [
      "\u001b[0;31m---------------------------------------------------------------------------\u001b[0m",
      "\u001b[0;31mKeyError\u001b[0m                                  Traceback (most recent call last)",
      "\u001b[0;32m<ipython-input-9-3c7c172ce4a3>\u001b[0m in \u001b[0;36m<module>\u001b[0;34m\u001b[0m\n\u001b[1;32m      1\u001b[0m \u001b[0;31m#Create A Model\u001b[0m\u001b[0;34m\u001b[0m\u001b[0;34m\u001b[0m\u001b[0;34m\u001b[0m\u001b[0m\n\u001b[1;32m      2\u001b[0m \u001b[0;34m\u001b[0m\u001b[0m\n\u001b[0;32m----> 3\u001b[0;31m \u001b[0mCnnmodel\u001b[0m \u001b[0;34m=\u001b[0m \u001b[0mkerasCnnModel\u001b[0m\u001b[0;34m(\u001b[0m\u001b[0mparametersDict\u001b[0m \u001b[0;34m,\u001b[0m \u001b[0mcallbackDict\u001b[0m\u001b[0;34m)\u001b[0m\u001b[0;34m\u001b[0m\u001b[0;34m\u001b[0m\u001b[0m\n\u001b[0m\u001b[1;32m      4\u001b[0m \u001b[0mmodel\u001b[0m \u001b[0;34m=\u001b[0m \u001b[0mCnnmodel\u001b[0m\u001b[0;34m.\u001b[0m\u001b[0mcreate_model\u001b[0m\u001b[0;34m(\u001b[0m\u001b[0;34m)\u001b[0m\u001b[0;34m\u001b[0m\u001b[0;34m\u001b[0m\u001b[0m\n\u001b[1;32m      5\u001b[0m \u001b[0mCnnmodel\u001b[0m\u001b[0;34m.\u001b[0m\u001b[0mcompile_model\u001b[0m\u001b[0;34m(\u001b[0m\u001b[0;34m)\u001b[0m\u001b[0;31m#Parameters Value Set by Default\u001b[0m\u001b[0;34m\u001b[0m\u001b[0;34m\u001b[0m\u001b[0m\n",
      "\u001b[0;32m<ipython-input-5-51e49b3836a6>\u001b[0m in \u001b[0;36m__init__\u001b[0;34m(self, parametersDict, callbackDict)\u001b[0m\n\u001b[1;32m     13\u001b[0m \u001b[0;34m\u001b[0m\u001b[0m\n\u001b[1;32m     14\u001b[0m     \u001b[0;31m###RUN INITIAL FUNTIONS\u001b[0m\u001b[0;34m\u001b[0m\u001b[0;34m\u001b[0m\u001b[0;34m\u001b[0m\u001b[0m\n\u001b[0;32m---> 15\u001b[0;31m     \u001b[0mself\u001b[0m\u001b[0;34m.\u001b[0m\u001b[0m__create_callbacks\u001b[0m\u001b[0;34m(\u001b[0m\u001b[0;34m)\u001b[0m\u001b[0;34m\u001b[0m\u001b[0;34m\u001b[0m\u001b[0m\n\u001b[0m\u001b[1;32m     16\u001b[0m \u001b[0;34m\u001b[0m\u001b[0m\n\u001b[1;32m     17\u001b[0m   \u001b[0;32mdef\u001b[0m \u001b[0m__createConvLayers\u001b[0m\u001b[0;34m(\u001b[0m\u001b[0mself\u001b[0m\u001b[0;34m)\u001b[0m\u001b[0;34m:\u001b[0m\u001b[0;34m\u001b[0m\u001b[0;34m\u001b[0m\u001b[0m\n",
      "\u001b[0;32m<ipython-input-5-51e49b3836a6>\u001b[0m in \u001b[0;36m__create_callbacks\u001b[0;34m(self, log_dir)\u001b[0m\n\u001b[1;32m     80\u001b[0m     \u001b[0mself\u001b[0m\u001b[0;34m.\u001b[0m\u001b[0mcallbacks\u001b[0m \u001b[0;34m=\u001b[0m \u001b[0;34m[\u001b[0m\u001b[0;34m]\u001b[0m\u001b[0;34m\u001b[0m\u001b[0;34m\u001b[0m\u001b[0m\n\u001b[1;32m     81\u001b[0m \u001b[0;34m\u001b[0m\u001b[0m\n\u001b[0;32m---> 82\u001b[0;31m     \u001b[0;32mif\u001b[0m\u001b[0;34m(\u001b[0m\u001b[0mcallbackDict\u001b[0m\u001b[0;34m[\u001b[0m\u001b[0;34m'custom'\u001b[0m\u001b[0;34m]\u001b[0m\u001b[0;34m)\u001b[0m\u001b[0;34m:\u001b[0m\u001b[0;34m\u001b[0m\u001b[0;34m\u001b[0m\u001b[0m\n\u001b[0m\u001b[1;32m     83\u001b[0m       \u001b[0mself\u001b[0m\u001b[0;34m.\u001b[0m\u001b[0mcallbacks\u001b[0m\u001b[0;34m.\u001b[0m\u001b[0mappend\u001b[0m\u001b[0;34m(\u001b[0m\u001b[0monBeginCallback\u001b[0m\u001b[0;34m(\u001b[0m\u001b[0;34m)\u001b[0m\u001b[0;34m)\u001b[0m\u001b[0;34m\u001b[0m\u001b[0;34m\u001b[0m\u001b[0m\n\u001b[1;32m     84\u001b[0m       \u001b[0mself\u001b[0m\u001b[0;34m.\u001b[0m\u001b[0mcallbacks\u001b[0m\u001b[0;34m.\u001b[0m\u001b[0mappend\u001b[0m\u001b[0;34m(\u001b[0m\u001b[0monEndCallback\u001b[0m\u001b[0;34m(\u001b[0m\u001b[0;34m)\u001b[0m\u001b[0;34m)\u001b[0m\u001b[0;34m\u001b[0m\u001b[0;34m\u001b[0m\u001b[0m\n",
      "\u001b[0;31mKeyError\u001b[0m: 'custom'"
     ]
    }
   ],
   "source": [
    "#Create A Model\n",
    "\n",
    "Cnnmodel = kerasCnnModel(parametersDict , callbackDict)\n",
    "model = Cnnmodel.create_model()\n",
    "Cnnmodel.compile_model()#Parameters Value Set by Default\n",
    "\n",
    "# for layer in model.layers:\n",
    "#     print(layer.output_shape)\n",
    "Cnnmodel.run_model(X_train , Y_train , X_dev , Y_dev)\n",
    "model.summary()\n"
   ]
  },
  {
   "cell_type": "markdown",
   "metadata": {},
   "source": [
    "<h2>Model Using TensorFlow<h2>"
   ]
  },
  {
   "cell_type": "code",
   "execution_count": 38,
   "metadata": {
    "ExecuteTime": {
     "end_time": "2019-06-13T14:59:01.409538Z",
     "start_time": "2019-06-13T14:59:01.310989Z"
    }
   },
   "outputs": [],
   "source": [
    "%run models.ipynb"
   ]
  },
  {
   "cell_type": "code",
   "execution_count": 39,
   "metadata": {
    "ExecuteTime": {
     "end_time": "2019-06-13T14:59:01.521077Z",
     "start_time": "2019-06-13T14:59:01.449440Z"
    },
    "scrolled": true
   },
   "outputs": [],
   "source": [
    "model = tensorFLowCnnModel()"
   ]
  },
  {
   "cell_type": "code",
   "execution_count": 40,
   "metadata": {
    "ExecuteTime": {
     "end_time": "2019-06-13T14:59:34.278988Z",
     "start_time": "2019-06-13T14:59:01.575510Z"
    },
    "scrolled": false
   },
   "outputs": [
    {
     "name": "stdout",
     "output_type": "stream",
     "text": [
      "../data/CheckPoints/last_model.txt\n",
      "WARNING:tensorflow:From /home/ubaidmanzoor/anaconda3/lib/python3.7/site-packages/tensorflow/python/training/saver.py:1266: checkpoint_exists (from tensorflow.python.training.checkpoint_management) is deprecated and will be removed in a future version.\n",
      "Instructions for updating:\n",
      "Use standard file APIs to check for files with this prefix.\n",
      "INFO:tensorflow:Restoring parameters from ../data/CheckPoints/my-model-1-72.0%/72.0%\n",
      "Cost after Epoch 1: 5.481107 => Training Acc : 0.771667 => Dev Acc : 0.680000 => Test Acc : 0.760000 *\n",
      "Cost after Epoch 2: 5.778721 => Training Acc : 0.750000 => Dev Acc : 0.626667 => Test Acc : 0.653333 \n",
      "Cost after Epoch 3: 5.565486 => Training Acc : 0.783333 => Dev Acc : 0.693333 => Test Acc : 0.693333 *\n",
      "Cost after Epoch 4: 5.388674 => Training Acc : 0.795000 => Dev Acc : 0.720000 => Test Acc : 0.800000 *\n",
      "Cost after Epoch 5: 5.045142 => Training Acc : 0.816667 => Dev Acc : 0.693333 => Test Acc : 0.786667 \n",
      "Cost after Epoch 6: 4.652095 => Training Acc : 0.796667 => Dev Acc : 0.666667 => Test Acc : 0.773333 \n",
      "Cost after Epoch 7: 4.971173 => Training Acc : 0.793333 => Dev Acc : 0.680000 => Test Acc : 0.773333 \n",
      "Cost after Epoch 8: 5.690617 => Training Acc : 0.748333 => Dev Acc : 0.653333 => Test Acc : 0.773333 \n",
      "Cost after Epoch 9: 4.634401 => Training Acc : 0.811667 => Dev Acc : 0.706667 => Test Acc : 0.720000 \n",
      "Cost after Epoch 10: 4.818738 => Training Acc : 0.823333 => Dev Acc : 0.666667 => Test Acc : 0.773333 \n"
     ]
    },
    {
     "data": {
      "image/png": "[encoded data removed]",
      "text/plain": [
       "<Figure size 432x288 with 1 Axes>"
      ]
     },
     "metadata": {
      "needs_background": "light"
     },
     "output_type": "display_data"
    }
   ],
   "source": [
    "model.fit()"
   ]
  },
  {
   "cell_type": "code",
   "execution_count": null,
   "metadata": {},
   "outputs": [],
   "source": []
  },
  {
   "cell_type": "code",
   "execution_count": null,
   "metadata": {},
   "outputs": [],
   "source": []
  }
 ],
 "metadata": {
  "kernelspec": {
   "display_name": "Python 3",
   "language": "python",
   "name": "python3"
  },
  "language_info": {
   "codemirror_mode": {
    "name": "ipython",
    "version": 3
   },
   "file_extension": ".py",
   "mimetype": "text/x-python",
   "name": "python",
   "nbconvert_exporter": "python",
   "pygments_lexer": "ipython3",
   "version": "3.7.3"
  },
  "varInspector": {
   "cols": {
    "lenName": 16,
    "lenType": 16,
    "lenVar": 40
   },
   "kernels_config": {
    "python": {
     "delete_cmd_postfix": "",
     "delete_cmd_prefix": "del ",
     "library": "var_list.py",
     "varRefreshCmd": "print(var_dic_list())"
    },
    "r": {
     "delete_cmd_postfix": ") ",
     "delete_cmd_prefix": "rm(",
     "library": "var_list.r",
     "varRefreshCmd": "cat(var_dic_list()) "
    }
   },
   "types_to_exclude": [
    "module",
    "function",
    "builtin_function_or_method",
    "instance",
    "_Feature"
   ],
   "window_display": false
  }
 },
 "nbformat": 4,
 "nbformat_minor": 2
}
